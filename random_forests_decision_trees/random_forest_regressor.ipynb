{
 "cells": [
  {
   "cell_type": "markdown",
   "metadata": {},
   "source": [
    "# Random forest regressor from scratch"
   ]
  },
  {
   "cell_type": "markdown",
   "metadata": {},
   "source": [
    "## Packages"
   ]
  },
  {
   "cell_type": "code",
   "execution_count": 1,
   "metadata": {
    "collapsed": true
   },
   "outputs": [],
   "source": [
    "import numpy as np\n",
    "import pandas as pd\n",
    "import matplotlib.pyplot as plt\n",
    "import math \n",
    "import operator\n",
    "%matplotlib inline"
   ]
  },
  {
   "cell_type": "code",
   "execution_count": 2,
   "metadata": {
    "collapsed": true
   },
   "outputs": [],
   "source": [
    "from sklearn.ensemble import RandomForestRegressor, RandomForestClassifier\n",
    "from IPython.display import display\n",
    "from sklearn.tree import export_graphviz\n",
    "import IPython, graphviz, re\n",
    "from sklearn.metrics import r2_score"
   ]
  },
  {
   "cell_type": "markdown",
   "metadata": {},
   "source": [
    "## Utils"
   ]
  },
  {
   "cell_type": "code",
   "execution_count": 3,
   "metadata": {
    "collapsed": true
   },
   "outputs": [],
   "source": [
    "# Proc from fast.ai to process dataframe, remove nas, drop y and convert x to numeric values\n",
    "def fix_missing(df, col, name, na_dict):\n",
    "    \"\"\" Fill missing data in a column of df with the median, and add a {name}_na column\n",
    "    which specifies if the data was missing.\n",
    "    \"\"\"\n",
    "    if True:\n",
    "        if pd.isnull(col).sum() or (name in na_dict):\n",
    "            df[name+'_na'] = pd.isnull(col)\n",
    "            filler = na_dict[name] if name in na_dict else col.median()\n",
    "            df[name] = col.fillna(filler)\n",
    "            na_dict[name] = filler\n",
    "    return na_dict\n",
    "\n",
    "# Draw tree (from fast.ai)\n",
    "def draw_tree(t, df, size=10, ratio=0.6, precision=0):\n",
    "    \"\"\" Draws a representation of a random forest in IPython.\n",
    "\n",
    "    Parameters:\n",
    "    -----------\n",
    "    t: The tree you wish to draw\n",
    "    df: The data used to train the tree. This is used to get the names of the features.\n",
    "    \"\"\"\n",
    "    s=export_graphviz(t, out_file=None, feature_names=df.columns, filled=True,\n",
    "                      special_characters=True, rotate=True, precision=precision)\n",
    "    IPython.display.display(graphviz.Source(re.sub('Tree {',\n",
    "       f'Tree {{ size={size}; ratio={ratio}', s)))"
   ]
  },
  {
   "cell_type": "markdown",
   "metadata": {
    "heading_collapsed": true
   },
   "source": [
    "## Data"
   ]
  },
  {
   "cell_type": "code",
   "execution_count": 4,
   "metadata": {
    "hidden": true
   },
   "outputs": [
    {
     "data": {
      "text/html": [
       "<div>\n",
       "<style>\n",
       "    .dataframe thead tr:only-child th {\n",
       "        text-align: right;\n",
       "    }\n",
       "\n",
       "    .dataframe thead th {\n",
       "        text-align: left;\n",
       "    }\n",
       "\n",
       "    .dataframe tbody tr th {\n",
       "        vertical-align: top;\n",
       "    }\n",
       "</style>\n",
       "<table border=\"1\" class=\"dataframe\">\n",
       "  <thead>\n",
       "    <tr style=\"text-align: right;\">\n",
       "      <th></th>\n",
       "      <th>SalesID</th>\n",
       "      <th>SalePrice</th>\n",
       "      <th>MachineID</th>\n",
       "      <th>ModelID</th>\n",
       "      <th>datasource</th>\n",
       "      <th>auctioneerID</th>\n",
       "      <th>YearMade</th>\n",
       "      <th>MachineHoursCurrentMeter</th>\n",
       "      <th>UsageBand</th>\n",
       "      <th>saledate</th>\n",
       "      <th>...</th>\n",
       "      <th>Undercarriage_Pad_Width</th>\n",
       "      <th>Stick_Length</th>\n",
       "      <th>Thumb</th>\n",
       "      <th>Pattern_Changer</th>\n",
       "      <th>Grouser_Type</th>\n",
       "      <th>Backhoe_Mounting</th>\n",
       "      <th>Blade_Type</th>\n",
       "      <th>Travel_Controls</th>\n",
       "      <th>Differential_Type</th>\n",
       "      <th>Steering_Controls</th>\n",
       "    </tr>\n",
       "  </thead>\n",
       "  <tbody>\n",
       "    <tr>\n",
       "      <th>0</th>\n",
       "      <td>1139246</td>\n",
       "      <td>66000</td>\n",
       "      <td>999089</td>\n",
       "      <td>3157</td>\n",
       "      <td>121</td>\n",
       "      <td>3.0</td>\n",
       "      <td>2004</td>\n",
       "      <td>68.0</td>\n",
       "      <td>Low</td>\n",
       "      <td>2006-11-16</td>\n",
       "      <td>...</td>\n",
       "      <td>NaN</td>\n",
       "      <td>NaN</td>\n",
       "      <td>NaN</td>\n",
       "      <td>NaN</td>\n",
       "      <td>NaN</td>\n",
       "      <td>NaN</td>\n",
       "      <td>NaN</td>\n",
       "      <td>NaN</td>\n",
       "      <td>Standard</td>\n",
       "      <td>Conventional</td>\n",
       "    </tr>\n",
       "    <tr>\n",
       "      <th>1</th>\n",
       "      <td>1139248</td>\n",
       "      <td>57000</td>\n",
       "      <td>117657</td>\n",
       "      <td>77</td>\n",
       "      <td>121</td>\n",
       "      <td>3.0</td>\n",
       "      <td>1996</td>\n",
       "      <td>4640.0</td>\n",
       "      <td>Low</td>\n",
       "      <td>2004-03-26</td>\n",
       "      <td>...</td>\n",
       "      <td>NaN</td>\n",
       "      <td>NaN</td>\n",
       "      <td>NaN</td>\n",
       "      <td>NaN</td>\n",
       "      <td>NaN</td>\n",
       "      <td>NaN</td>\n",
       "      <td>NaN</td>\n",
       "      <td>NaN</td>\n",
       "      <td>Standard</td>\n",
       "      <td>Conventional</td>\n",
       "    </tr>\n",
       "    <tr>\n",
       "      <th>2</th>\n",
       "      <td>1139249</td>\n",
       "      <td>10000</td>\n",
       "      <td>434808</td>\n",
       "      <td>7009</td>\n",
       "      <td>121</td>\n",
       "      <td>3.0</td>\n",
       "      <td>2001</td>\n",
       "      <td>2838.0</td>\n",
       "      <td>High</td>\n",
       "      <td>2004-02-26</td>\n",
       "      <td>...</td>\n",
       "      <td>NaN</td>\n",
       "      <td>NaN</td>\n",
       "      <td>NaN</td>\n",
       "      <td>NaN</td>\n",
       "      <td>NaN</td>\n",
       "      <td>NaN</td>\n",
       "      <td>NaN</td>\n",
       "      <td>NaN</td>\n",
       "      <td>NaN</td>\n",
       "      <td>NaN</td>\n",
       "    </tr>\n",
       "    <tr>\n",
       "      <th>3</th>\n",
       "      <td>1139251</td>\n",
       "      <td>38500</td>\n",
       "      <td>1026470</td>\n",
       "      <td>332</td>\n",
       "      <td>121</td>\n",
       "      <td>3.0</td>\n",
       "      <td>2001</td>\n",
       "      <td>3486.0</td>\n",
       "      <td>High</td>\n",
       "      <td>2011-05-19</td>\n",
       "      <td>...</td>\n",
       "      <td>NaN</td>\n",
       "      <td>NaN</td>\n",
       "      <td>NaN</td>\n",
       "      <td>NaN</td>\n",
       "      <td>NaN</td>\n",
       "      <td>NaN</td>\n",
       "      <td>NaN</td>\n",
       "      <td>NaN</td>\n",
       "      <td>NaN</td>\n",
       "      <td>NaN</td>\n",
       "    </tr>\n",
       "    <tr>\n",
       "      <th>4</th>\n",
       "      <td>1139253</td>\n",
       "      <td>11000</td>\n",
       "      <td>1057373</td>\n",
       "      <td>17311</td>\n",
       "      <td>121</td>\n",
       "      <td>3.0</td>\n",
       "      <td>2007</td>\n",
       "      <td>722.0</td>\n",
       "      <td>Medium</td>\n",
       "      <td>2009-07-23</td>\n",
       "      <td>...</td>\n",
       "      <td>NaN</td>\n",
       "      <td>NaN</td>\n",
       "      <td>NaN</td>\n",
       "      <td>NaN</td>\n",
       "      <td>NaN</td>\n",
       "      <td>NaN</td>\n",
       "      <td>NaN</td>\n",
       "      <td>NaN</td>\n",
       "      <td>NaN</td>\n",
       "      <td>NaN</td>\n",
       "    </tr>\n",
       "  </tbody>\n",
       "</table>\n",
       "<p>5 rows × 53 columns</p>\n",
       "</div>"
      ],
      "text/plain": [
       "   SalesID  SalePrice  MachineID  ModelID  datasource  auctioneerID  YearMade  \\\n",
       "0  1139246      66000     999089     3157         121           3.0      2004   \n",
       "1  1139248      57000     117657       77         121           3.0      1996   \n",
       "2  1139249      10000     434808     7009         121           3.0      2001   \n",
       "3  1139251      38500    1026470      332         121           3.0      2001   \n",
       "4  1139253      11000    1057373    17311         121           3.0      2007   \n",
       "\n",
       "   MachineHoursCurrentMeter UsageBand   saledate        ...         \\\n",
       "0                      68.0       Low 2006-11-16        ...          \n",
       "1                    4640.0       Low 2004-03-26        ...          \n",
       "2                    2838.0      High 2004-02-26        ...          \n",
       "3                    3486.0      High 2011-05-19        ...          \n",
       "4                     722.0    Medium 2009-07-23        ...          \n",
       "\n",
       "  Undercarriage_Pad_Width Stick_Length Thumb Pattern_Changer Grouser_Type  \\\n",
       "0                     NaN          NaN   NaN             NaN          NaN   \n",
       "1                     NaN          NaN   NaN             NaN          NaN   \n",
       "2                     NaN          NaN   NaN             NaN          NaN   \n",
       "3                     NaN          NaN   NaN             NaN          NaN   \n",
       "4                     NaN          NaN   NaN             NaN          NaN   \n",
       "\n",
       "  Backhoe_Mounting Blade_Type Travel_Controls Differential_Type  \\\n",
       "0              NaN        NaN             NaN          Standard   \n",
       "1              NaN        NaN             NaN          Standard   \n",
       "2              NaN        NaN             NaN               NaN   \n",
       "3              NaN        NaN             NaN               NaN   \n",
       "4              NaN        NaN             NaN               NaN   \n",
       "\n",
       "  Steering_Controls  \n",
       "0      Conventional  \n",
       "1      Conventional  \n",
       "2               NaN  \n",
       "3               NaN  \n",
       "4               NaN  \n",
       "\n",
       "[5 rows x 53 columns]"
      ]
     },
     "execution_count": 4,
     "metadata": {},
     "output_type": "execute_result"
    }
   ],
   "source": [
    "# This is from Kaggle bulldozers contest\n",
    "df_raw = pd.read_csv('data/bulldozers/Train.csv', low_memory=False, parse_dates=[\"saledate\"])\n",
    "df_raw.head()"
   ]
  },
  {
   "cell_type": "code",
   "execution_count": 5,
   "metadata": {
    "hidden": true
   },
   "outputs": [
    {
     "data": {
      "text/plain": [
       "((401125, 2), (401125,))"
      ]
     },
     "execution_count": 5,
     "metadata": {},
     "output_type": "execute_result"
    }
   ],
   "source": [
    "# Get x_train and y_train\n",
    "x_train_orig = df_raw.drop('SalePrice', axis=1)\n",
    "x_train = x_train_orig[['YearMade', 'MachineHoursCurrentMeter']]\n",
    "y_train = df_raw['SalePrice'].values\n",
    "\n",
    "# Log scale the y values\n",
    "y_train = np.log(y_train)\n",
    "\n",
    "# Print shapes\n",
    "x_train.shape, y_train.shape"
   ]
  },
  {
   "cell_type": "code",
   "execution_count": 6,
   "metadata": {
    "hidden": true
   },
   "outputs": [
    {
     "name": "stdout",
     "output_type": "stream",
     "text": [
      "Index(['YearMade', 'MachineHoursCurrentMeter'], dtype='object') [[ 2004.    68.]\n",
      " [ 1996.  4640.]\n",
      " [ 2001.  2838.]\n",
      " ..., \n",
      " [ 2005.    nan]\n",
      " [ 2005.    nan]\n",
      " [ 2005.    nan]]\n"
     ]
    }
   ],
   "source": [
    "# Visualize data\n",
    "x_train.head(), y_train[:5]\n",
    "print(x_train.columns, x_train.values)"
   ]
  },
  {
   "cell_type": "code",
   "execution_count": 7,
   "metadata": {
    "hidden": true
   },
   "outputs": [
    {
     "name": "stdout",
     "output_type": "stream",
     "text": [
      "Index(['YearMade', 'MachineHoursCurrentMeter'], dtype='object') [[ 2004.    68.]\n",
      " [ 1996.  4640.]\n",
      " [ 2001.  2838.]\n",
      " ..., \n",
      " [ 2005.     0.]\n",
      " [ 2005.     0.]\n",
      " [ 2005.     0.]]\n"
     ]
    },
    {
     "name": "stderr",
     "output_type": "stream",
     "text": [
      "/home/sb/anaconda3/lib/python3.6/site-packages/ipykernel_launcher.py:8: SettingWithCopyWarning: \n",
      "A value is trying to be set on a copy of a slice from a DataFrame.\n",
      "Try using .loc[row_indexer,col_indexer] = value instead\n",
      "\n",
      "See the caveats in the documentation: http://pandas.pydata.org/pandas-docs/stable/indexing.html#indexing-view-versus-copy\n",
      "  \n",
      "/home/sb/anaconda3/lib/python3.6/site-packages/ipykernel_launcher.py:10: SettingWithCopyWarning: \n",
      "A value is trying to be set on a copy of a slice from a DataFrame.\n",
      "Try using .loc[row_indexer,col_indexer] = value instead\n",
      "\n",
      "See the caveats in the documentation: http://pandas.pydata.org/pandas-docs/stable/indexing.html#indexing-view-versus-copy\n",
      "  # Remove the CWD from sys.path while we load stuff.\n"
     ]
    },
    {
     "data": {
      "text/plain": [
       "((401125, 2), (401125,))"
      ]
     },
     "execution_count": 7,
     "metadata": {},
     "output_type": "execute_result"
    }
   ],
   "source": [
    "# Replace nan\n",
    "na_dict = {}\n",
    "for n,c in x_train.items(): na_dict = fix_missing(x_train, c, n, na_dict)\n",
    "\n",
    "# Get back x\n",
    "x_train = x_train[['YearMade', 'MachineHoursCurrentMeter']]\n",
    "x_train.head(), y_train[:5]\n",
    "print(x_train.columns, x_train.values)\n",
    "x_train.shape, y_train.shape"
   ]
  },
  {
   "cell_type": "code",
   "execution_count": 8,
   "metadata": {
    "hidden": true
   },
   "outputs": [
    {
     "data": {
      "text/plain": [
       "((1000, 2), (1000,), (100, 2), (100,))"
      ]
     },
     "execution_count": 8,
     "metadata": {},
     "output_type": "execute_result"
    }
   ],
   "source": [
    "# Pick small subset for train, and small for validn\n",
    "x_val_sample = x_train.iloc[1000:1001]\n",
    "y_val_sample = y_train[1000:1001]\n",
    "x_val = x_train.iloc[1000:1100]\n",
    "y_val = y_train[1000:1100]\n",
    "x_train = x_train.iloc[:1000]\n",
    "y_train = y_train[:1000]\n",
    "x_train.shape, y_train.shape, x_val.shape, y_val.shape"
   ]
  },
  {
   "cell_type": "markdown",
   "metadata": {},
   "source": [
    "## Random forest with decision tree model"
   ]
  },
  {
   "cell_type": "markdown",
   "metadata": {},
   "source": [
    "### Class and functions"
   ]
  },
  {
   "cell_type": "code",
   "execution_count": 9,
   "metadata": {
    "collapsed": true
   },
   "outputs": [],
   "source": [
    "# Random forest class \n",
    "# Note: features are columns, samples are rows, x is independent variable, y is dependent variable\n",
    "class Random_forest():\n",
    "    \n",
    "    # Create ensemble of trees\n",
    "    def __init__(self, x, y, num_trees, sample_size=None, min_leaf_samples=5, max_depth=None):\n",
    "        # If we want predictable results for testing, use here: np.random.seed(100)\n",
    "        self.x = x ; self.y = y  \n",
    "        if sample_size is None:\n",
    "            self.sample_size = x.shape[0]  \n",
    "        else:\n",
    "            self.sample_size = sample_size  \n",
    "        self.min_leaf_samples = min_leaf_samples\n",
    "        self.max_depth = max_depth\n",
    "        self.trees = [self.build_tree() for i in range(num_trees)]\n",
    "\n",
    "    # Create one decision tree with sample_size rows chosen\n",
    "    def build_tree(self):\n",
    "        sample_idxs = np.random.permutation(len(self.y))[:self.sample_size]\n",
    "        tree = Decision_tree(self.x.iloc[sample_idxs], \n",
    "                             self.y[sample_idxs], \n",
    "                             idxs = np.array(range(self.sample_size)), \n",
    "                             min_leaf_samples = self.min_leaf_samples, max_depth = self.max_depth, depth=None)\n",
    "        return tree\n",
    "    \n",
    "    # Make mean prediction of all trees\n",
    "    def predict(self, x):\n",
    "        return np.mean([tree.predict(x) for tree in self.trees], axis=0)\n",
    "    \n",
    "# Decision tree class \n",
    "# Note: features are columns, samples are rows, x is independent variable, y is dependent variable\n",
    "class Decision_tree():\n",
    "    \n",
    "    # Initialize\n",
    "    def __init__(self, x, y, idxs = None, min_leaf_samples = 5, max_depth = None, depth=None):\n",
    "        self.x = x ; self.y = y \n",
    "        self.sample_idxs = idxs \n",
    "        self.min_leaf_samples = min_leaf_samples\n",
    "        self.num_samples = len(idxs)\n",
    "        self.num_features = x.shape[1]\n",
    "        self.pred_value = np.mean(y[idxs]) ; # Predictive value at this node of tree: using mean of all y\n",
    "        self.score = float('inf') ; # Score used by decision tree to find the split\n",
    "        self.best_feature_idx = None\n",
    "        self.split_feature_name = None\n",
    "        self.split_feature_value = None\n",
    "        self.left_child_tree = None ; # Left tree is less than split value\n",
    "        self.left_child_tree = None ; # Right tree is greater than split value\n",
    "        self.max_depth = max_depth ;\n",
    "        if depth is None: \n",
    "            self.depth = 0\n",
    "        else:\n",
    "            self.depth = depth\n",
    "        self.find_best_split_feature()\n",
    "        \n",
    "    # Find the best feature to split\n",
    "    def find_best_split_feature(self):\n",
    "        # find best split value\n",
    "        for feature_idx in range(self.num_features): \n",
    "            self.find_best_split_feature_value(feature_idx)\n",
    "        # base case of recursion. Stop at leaf\n",
    "        if self.is_leaf_node(): return        \n",
    "        # best split feature and value are found ; recurse on the children here\n",
    "        best_feature = self.x.values[self.sample_idxs, self.best_feature_idx]\n",
    "        best_feature_val = self.split_feature_value\n",
    "        left_split_idxs = np.nonzero(best_feature <= best_feature_val)[0] ; # first element of tuple gives indices\n",
    "        right_split_idxs = np.nonzero(best_feature > best_feature_val)[0]\n",
    "        self.left_child_tree = Decision_tree(self.x, self.y, \n",
    "                                             self.sample_idxs[left_split_idxs], \n",
    "                                             min_leaf_samples = self.min_leaf_samples,\n",
    "                                             max_depth = self.max_depth, depth=self.depth + 1)\n",
    "        self.right_child_tree = Decision_tree(self.x, self.y, \n",
    "                                              self.sample_idxs[right_split_idxs], \n",
    "                                              min_leaf_samples = self.min_leaf_samples,\n",
    "                                              max_depth = self.max_depth, depth=self.depth + 1)\n",
    "\n",
    "    # Find the best value to split in given feature: \n",
    "    # Using stddev here as score metric\n",
    "    def find_best_split_feature_value(self, feature_idx):\n",
    "        \n",
    "        current_x = self.x.values[self.sample_idxs, feature_idx]\n",
    "        current_y = self.y[self.sample_idxs]\n",
    "        # find feature value with least stddev \n",
    "        # its computationally efficient to sort x by value once and find stddev of all possible value splits of x\n",
    "        idxs_sorted = np.argsort(current_x)\n",
    "        current_x_sorted = current_x[idxs_sorted] ;  current_y_sorted = current_y[idxs_sorted]\n",
    "        left_split_cnt, left_split_sum, left_split_sumsquares = 0, 0.0, 0.0\n",
    "        right_split_cnt, right_split_sum, right_split_sumsquares = self.num_samples, current_y_sorted.sum(), (current_y_sorted**2).sum()\n",
    "        for sample_idx in range(self.num_samples - self.min_leaf_samples - 1):\n",
    "            left_split_cnt += 1  ;  right_split_cnt -= 1  \n",
    "            left_split_sum += current_y_sorted[sample_idx] ; left_split_sumsquares += current_y_sorted[sample_idx]**2           \n",
    "            right_split_sum -= current_y_sorted[sample_idx] ; right_split_sumsquares -= current_y_sorted[sample_idx]**2\n",
    "            # Count y for all equal values of x, \n",
    "            # Also dont go below min_leaf_samples on left split, right split taken care of for loop condition\n",
    "            if (current_x_sorted[sample_idx] == current_x_sorted[sample_idx + 1]) or (sample_idx < self.min_leaf_samples):\n",
    "                continue\n",
    "            # Stddev till sample_idx idx of x\n",
    "            left_split_stddev =  stddev(left_split_sum, left_split_sumsquares, left_split_cnt)\n",
    "            right_split_stddev = stddev(right_split_sum, right_split_sumsquares, right_split_cnt)\n",
    "            score = left_split_cnt*left_split_stddev + right_split_cnt*right_split_stddev\n",
    "            if score < self.score:\n",
    "                self.score = score ; self.best_feature_idx = feature_idx \n",
    "                self.split_feature_name = self.x.columns[feature_idx]\n",
    "                self.split_feature_value = current_x_sorted[sample_idx]        \n",
    "    \n",
    "    # Is it a leaf node?\n",
    "    def is_leaf_node(self): \n",
    "        #return self.score == float('inf') \n",
    "        return ((self.score == float('inf') \n",
    "                 or (self.num_samples < self.min_leaf_samples)\n",
    "                 or (self.max_depth is not None and self.depth == self.max_depth)))\n",
    "   \n",
    "    # Print for python object\n",
    "    def __repr__(self):\n",
    "        msg = f'num_samples: {self.num_samples}; pred_value:{self.pred_value}'\n",
    "        if not self.is_leaf_node():\n",
    "            msg += f'; split_feature:{self.split_feature_name} ; split_value:{self.split_feature_value} ; score:{self.score}; '\n",
    "        return msg   \n",
    "  \n",
    "    # Prediction for all x inputs\n",
    "    def predict(self, samples_x):\n",
    "        ypreds = np.array([self.predict_sample(sample_x) for sample_x in samples_x])\n",
    "        return ypreds\n",
    "    \n",
    "    # Prediction per x input\n",
    "    def predict_sample(self, sample_x):\n",
    "        # base case\n",
    "        if self.is_leaf_node(): return self.pred_value\n",
    "        # recurse till leaf\n",
    "        feature_val = sample_x[self.best_feature_idx]\n",
    "        split_val = self.split_feature_value        \n",
    "        if feature_val <= split_val:\n",
    "            y_pred = self.left_child_tree.predict_sample(sample_x)\n",
    "        else:\n",
    "            y_pred = self.right_child_tree.predict_sample(sample_x)\n",
    "        return y_pred       \n",
    "\n",
    "    # Print tree\n",
    "    def print_tree(self):\n",
    "        tab = \"\"\n",
    "        for _ in range(self.depth): tab += \"\\t\"\n",
    "        print(tab + str(self))\n",
    "        if self.is_leaf_node(): return\n",
    "        self.left_child_tree.print_tree() \n",
    "        self.right_child_tree.print_tree()\n",
    "    "
   ]
  },
  {
   "cell_type": "code",
   "execution_count": 10,
   "metadata": {
    "collapsed": true
   },
   "outputs": [],
   "source": [
    "# Score functions:\n",
    "def stddev(sum_samples, sum_squares_samples, num_samples):\n",
    "    variance = (sum_squares_samples/num_samples) - (sum_samples/num_samples)**2\n",
    "    #print(\"num_samples, sum_squares_samples, sum_samples, variance\", num_samples, sum_squares_samples, sum_samples, variance)\n",
    "    if variance < 0: variance = 0\n",
    "    std_dev = math.sqrt(variance)\n",
    "    return std_dev"
   ]
  },
  {
   "cell_type": "markdown",
   "metadata": {},
   "source": [
    "### Compare model with 1 tree with sklearn model"
   ]
  },
  {
   "cell_type": "code",
   "execution_count": 11,
   "metadata": {},
   "outputs": [
    {
     "name": "stdout",
     "output_type": "stream",
     "text": [
      "num_samples: 1000; pred_value:10.160352993311724; split_feature:MachineHoursCurrentMeter ; split_value:2178.0 ; score:672.0239238186291; \n",
      "\tnum_samples: 470; pred_value:9.900122245394034; split_feature:YearMade ; split_value:2003.0 ; score:299.865909637946; \n",
      "\t\tnum_samples: 303; pred_value:9.754944365218092\n",
      "\t\tnum_samples: 167; pred_value:10.163528818407867\n",
      "\tnum_samples: 530; pred_value:10.391123656559486; split_feature:YearMade ; split_value:1997.0 ; score:349.1370243458754; \n",
      "\t\tnum_samples: 204; pred_value:10.200598892478142\n",
      "\t\tnum_samples: 326; pred_value:10.510347742058242\n"
     ]
    }
   ],
   "source": [
    "# This random forest\n",
    "my_rf = Random_forest(x_train, y_train, num_trees=1, min_leaf_samples=100, max_depth = 2)\n",
    "my_rf.trees[0], my_rf.trees[0].left_child_tree, my_rf.trees[0].right_child_tree\n",
    "my_rf.trees[0].print_tree()"
   ]
  },
  {
   "cell_type": "code",
   "execution_count": 12,
   "metadata": {},
   "outputs": [
    {
     "data": {
      "image/svg+xml": [
       "<?xml version=\"1.0\" encoding=\"UTF-8\" standalone=\"no\"?>\n",
       "<!DOCTYPE svg PUBLIC \"-//W3C//DTD SVG 1.1//EN\"\n",
       " \"http://www.w3.org/Graphics/SVG/1.1/DTD/svg11.dtd\">\n",
       "<!-- Generated by graphviz version 2.40.1 (20161225.0304)\n",
       " -->\n",
       "<!-- Title: Tree Pages: 1 -->\n",
       "<svg width=\"530pt\" height=\"321pt\"\n",
       " viewBox=\"0.00 0.00 530.00 321.20\" xmlns=\"http://www.w3.org/2000/svg\" xmlns:xlink=\"http://www.w3.org/1999/xlink\">\n",
       "<g id=\"graph0\" class=\"graph\" transform=\"scale(1 1) rotate(0) translate(4 317.2)\">\n",
       "<title>Tree</title>\n",
       "<polygon fill=\"#ffffff\" stroke=\"transparent\" points=\"-4,4 -4,-317.2 526,-317.2 526,4 -4,4\"/>\n",
       "<!-- 0 -->\n",
       "<g id=\"node1\" class=\"node\">\n",
       "<title>0</title>\n",
       "<polygon fill=\"#e58139\" fill-opacity=\"0.537255\" stroke=\"#000000\" points=\"224.5,-192.74 -.5,-192.74 -.5,-124.74 224.5,-124.74 224.5,-192.74\"/>\n",
       "<text text-anchor=\"start\" x=\"7.5\" y=\"-177.54\" font-family=\"Times,serif\" font-size=\"14.00\" fill=\"#000000\">MachineHoursCurrentMeter ≤ 2178.5</text>\n",
       "<text text-anchor=\"start\" x=\"80.5\" y=\"-162.54\" font-family=\"Times,serif\" font-size=\"14.00\" fill=\"#000000\">mse = 0.51</text>\n",
       "<text text-anchor=\"start\" x=\"68\" y=\"-147.54\" font-family=\"Times,serif\" font-size=\"14.00\" fill=\"#000000\">samples = 1000</text>\n",
       "<text text-anchor=\"start\" x=\"74\" y=\"-132.54\" font-family=\"Times,serif\" font-size=\"14.00\" fill=\"#000000\">value = 10.16</text>\n",
       "</g>\n",
       "<!-- 1 -->\n",
       "<g id=\"node2\" class=\"node\">\n",
       "<title>1</title>\n",
       "<polygon fill=\"#e58139\" fill-opacity=\"0.192157\" stroke=\"#000000\" points=\"389,-241.74 261,-241.74 261,-173.74 389,-173.74 389,-241.74\"/>\n",
       "<text text-anchor=\"start\" x=\"269\" y=\"-226.54\" font-family=\"Times,serif\" font-size=\"14.00\" fill=\"#000000\">YearMade ≤ 2003.5</text>\n",
       "<text text-anchor=\"start\" x=\"293.5\" y=\"-211.54\" font-family=\"Times,serif\" font-size=\"14.00\" fill=\"#000000\">mse = 0.45</text>\n",
       "<text text-anchor=\"start\" x=\"284.5\" y=\"-196.54\" font-family=\"Times,serif\" font-size=\"14.00\" fill=\"#000000\">samples = 470</text>\n",
       "<text text-anchor=\"start\" x=\"293.5\" y=\"-181.54\" font-family=\"Times,serif\" font-size=\"14.00\" fill=\"#000000\">value = 9.9</text>\n",
       "</g>\n",
       "<!-- 0&#45;&gt;1 -->\n",
       "<g id=\"edge1\" class=\"edge\">\n",
       "<title>0&#45;&gt;1</title>\n",
       "<path fill=\"none\" stroke=\"#000000\" d=\"M224.7371,-184.6748C233.6307,-186.7208 242.4662,-188.7534 250.9943,-190.7152\"/>\n",
       "<polygon fill=\"#000000\" stroke=\"#000000\" points=\"250.3191,-194.1512 260.8493,-192.9823 251.8885,-187.3294 250.3191,-194.1512\"/>\n",
       "<text text-anchor=\"middle\" x=\"239.6584\" y=\"-202.5468\" font-family=\"Times,serif\" font-size=\"14.00\" fill=\"#000000\">True</text>\n",
       "</g>\n",
       "<!-- 4 -->\n",
       "<g id=\"node5\" class=\"node\">\n",
       "<title>4</title>\n",
       "<polygon fill=\"#e58139\" fill-opacity=\"0.843137\" stroke=\"#000000\" points=\"389,-142.74 261,-142.74 261,-74.74 389,-74.74 389,-142.74\"/>\n",
       "<text text-anchor=\"start\" x=\"269\" y=\"-127.54\" font-family=\"Times,serif\" font-size=\"14.00\" fill=\"#000000\">YearMade ≤ 1997.5</text>\n",
       "<text text-anchor=\"start\" x=\"293.5\" y=\"-112.54\" font-family=\"Times,serif\" font-size=\"14.00\" fill=\"#000000\">mse = 0.46</text>\n",
       "<text text-anchor=\"start\" x=\"284.5\" y=\"-97.54\" font-family=\"Times,serif\" font-size=\"14.00\" fill=\"#000000\">samples = 530</text>\n",
       "<text text-anchor=\"start\" x=\"287\" y=\"-82.54\" font-family=\"Times,serif\" font-size=\"14.00\" fill=\"#000000\">value = 10.39</text>\n",
       "</g>\n",
       "<!-- 0&#45;&gt;4 -->\n",
       "<g id=\"edge4\" class=\"edge\">\n",
       "<title>0&#45;&gt;4</title>\n",
       "<path fill=\"none\" stroke=\"#000000\" d=\"M224.7371,-132.2759C233.6307,-130.1882 242.4662,-128.1141 250.9943,-126.1122\"/>\n",
       "<polygon fill=\"#000000\" stroke=\"#000000\" points=\"251.9138,-129.4916 260.8493,-123.7989 250.314,-122.6768 251.9138,-129.4916\"/>\n",
       "<text text-anchor=\"middle\" x=\"239.5995\" y=\"-106.9289\" font-family=\"Times,serif\" font-size=\"14.00\" fill=\"#000000\">False</text>\n",
       "</g>\n",
       "<!-- 2 -->\n",
       "<g id=\"node3\" class=\"node\">\n",
       "<title>2</title>\n",
       "<polygon fill=\"transparent\" stroke=\"#000000\" points=\"522.5,-309.24 425.5,-309.24 425.5,-256.24 522.5,-256.24 522.5,-309.24\"/>\n",
       "<text text-anchor=\"start\" x=\"442.5\" y=\"-294.04\" font-family=\"Times,serif\" font-size=\"14.00\" fill=\"#000000\">mse = 0.38</text>\n",
       "<text text-anchor=\"start\" x=\"433.5\" y=\"-279.04\" font-family=\"Times,serif\" font-size=\"14.00\" fill=\"#000000\">samples = 303</text>\n",
       "<text text-anchor=\"start\" x=\"439\" y=\"-264.04\" font-family=\"Times,serif\" font-size=\"14.00\" fill=\"#000000\">value = 9.75</text>\n",
       "</g>\n",
       "<!-- 1&#45;&gt;2 -->\n",
       "<g id=\"edge2\" class=\"edge\">\n",
       "<title>1&#45;&gt;2</title>\n",
       "<path fill=\"none\" stroke=\"#000000\" d=\"M389.0541,-239.982C398.0693,-244.5199 407.2927,-249.1625 416.1821,-253.637\"/>\n",
       "<polygon fill=\"#000000\" stroke=\"#000000\" points=\"414.7961,-256.8577 425.3021,-258.2276 417.9434,-250.6052 414.7961,-256.8577\"/>\n",
       "</g>\n",
       "<!-- 3 -->\n",
       "<g id=\"node4\" class=\"node\">\n",
       "<title>3</title>\n",
       "<polygon fill=\"#e58139\" fill-opacity=\"0.541176\" stroke=\"#000000\" points=\"522.5,-226.24 425.5,-226.24 425.5,-173.24 522.5,-173.24 522.5,-226.24\"/>\n",
       "<text text-anchor=\"start\" x=\"442.5\" y=\"-211.04\" font-family=\"Times,serif\" font-size=\"14.00\" fill=\"#000000\">mse = 0.45</text>\n",
       "<text text-anchor=\"start\" x=\"433.5\" y=\"-196.04\" font-family=\"Times,serif\" font-size=\"14.00\" fill=\"#000000\">samples = 167</text>\n",
       "<text text-anchor=\"start\" x=\"436\" y=\"-181.04\" font-family=\"Times,serif\" font-size=\"14.00\" fill=\"#000000\">value = 10.16</text>\n",
       "</g>\n",
       "<!-- 1&#45;&gt;3 -->\n",
       "<g id=\"edge3\" class=\"edge\">\n",
       "<title>1&#45;&gt;3</title>\n",
       "<path fill=\"none\" stroke=\"#000000\" d=\"M389.0541,-204.3009C397.6897,-203.8372 406.5164,-203.3633 415.0575,-202.9047\"/>\n",
       "<polygon fill=\"#000000\" stroke=\"#000000\" points=\"415.5041,-206.3859 425.3021,-202.3547 415.1288,-199.3959 415.5041,-206.3859\"/>\n",
       "</g>\n",
       "<!-- 5 -->\n",
       "<g id=\"node6\" class=\"node\">\n",
       "<title>5</title>\n",
       "<polygon fill=\"#e58139\" fill-opacity=\"0.588235\" stroke=\"#000000\" points=\"522.5,-139.24 425.5,-139.24 425.5,-86.24 522.5,-86.24 522.5,-139.24\"/>\n",
       "<text text-anchor=\"start\" x=\"442.5\" y=\"-124.04\" font-family=\"Times,serif\" font-size=\"14.00\" fill=\"#000000\">mse = 0.45</text>\n",
       "<text text-anchor=\"start\" x=\"433.5\" y=\"-109.04\" font-family=\"Times,serif\" font-size=\"14.00\" fill=\"#000000\">samples = 204</text>\n",
       "<text text-anchor=\"start\" x=\"439\" y=\"-94.04\" font-family=\"Times,serif\" font-size=\"14.00\" fill=\"#000000\">value = 10.2</text>\n",
       "</g>\n",
       "<!-- 4&#45;&gt;5 -->\n",
       "<g id=\"edge5\" class=\"edge\">\n",
       "<title>4&#45;&gt;5</title>\n",
       "<path fill=\"none\" stroke=\"#000000\" d=\"M389.0541,-110.4596C397.6897,-110.6914 406.5164,-110.9284 415.0575,-111.1576\"/>\n",
       "<polygon fill=\"#000000\" stroke=\"#000000\" points=\"415.2117,-114.663 425.3021,-111.4327 415.3996,-107.6655 415.2117,-114.663\"/>\n",
       "</g>\n",
       "<!-- 6 -->\n",
       "<g id=\"node7\" class=\"node\">\n",
       "<title>6</title>\n",
       "<polygon fill=\"#e58139\" stroke=\"#000000\" points=\"522.5,-57.24 425.5,-57.24 425.5,-4.24 522.5,-4.24 522.5,-57.24\"/>\n",
       "<text text-anchor=\"start\" x=\"442.5\" y=\"-42.04\" font-family=\"Times,serif\" font-size=\"14.00\" fill=\"#000000\">mse = 0.43</text>\n",
       "<text text-anchor=\"start\" x=\"433.5\" y=\"-27.04\" font-family=\"Times,serif\" font-size=\"14.00\" fill=\"#000000\">samples = 326</text>\n",
       "<text text-anchor=\"start\" x=\"436\" y=\"-12.04\" font-family=\"Times,serif\" font-size=\"14.00\" fill=\"#000000\">value = 10.51</text>\n",
       "</g>\n",
       "<!-- 4&#45;&gt;6 -->\n",
       "<g id=\"edge6\" class=\"edge\">\n",
       "<title>4&#45;&gt;6</title>\n",
       "<path fill=\"none\" stroke=\"#000000\" d=\"M389.0541,-75.2083C398.0693,-70.4889 407.2927,-65.6606 416.1821,-61.0071\"/>\n",
       "<polygon fill=\"#000000\" stroke=\"#000000\" points=\"418.0658,-63.9716 425.3021,-56.2329 414.8193,-57.77 418.0658,-63.9716\"/>\n",
       "</g>\n",
       "</g>\n",
       "</svg>\n"
      ],
      "text/plain": [
       "<graphviz.files.Source at 0x7f0ab4ab7128>"
      ]
     },
     "metadata": {},
     "output_type": "display_data"
    }
   ],
   "source": [
    "# Sklearn random forest for comparison\n",
    "sklearn_rf = RandomForestRegressor(n_estimators=1, max_depth=2, min_samples_leaf= 100, bootstrap=False)\n",
    "sklearn_rf.fit(x_train, y_train)\n",
    "draw_tree(sklearn_rf.estimators_[0], x_train, precision=2)"
   ]
  },
  {
   "cell_type": "markdown",
   "metadata": {},
   "source": [
    "#### Prediction for 1 sample"
   ]
  },
  {
   "cell_type": "code",
   "execution_count": 13,
   "metadata": {},
   "outputs": [
    {
     "data": {
      "text/plain": [
       "array([ 10.20059889])"
      ]
     },
     "execution_count": 13,
     "metadata": {},
     "output_type": "execute_result"
    }
   ],
   "source": [
    "# Make example prediction with this model:\n",
    "cols = ['YearMade', 'MachineHoursCurrentMeter']\n",
    "preds = my_rf.trees[0].predict(x_val_sample[cols].values)\n",
    "preds"
   ]
  },
  {
   "cell_type": "code",
   "execution_count": 14,
   "metadata": {},
   "outputs": [
    {
     "data": {
      "text/plain": [
       "array([ 10.20059889])"
      ]
     },
     "execution_count": 14,
     "metadata": {},
     "output_type": "execute_result"
    }
   ],
   "source": [
    "# Make example prediction with sklearn model:\n",
    "sklearn_rf.predict(x_val_sample)"
   ]
  },
  {
   "cell_type": "markdown",
   "metadata": {},
   "source": [
    "### Compare model with >1 trees with sklearn model\n",
    " They are expected to be different since randomness is different for 2 approaches.\n",
    " - sklearn model uses all samples with bootstrapping\n",
    " - The model built here uses subsampling to create randomness. (Easy to add bootstrapping if needed)"
   ]
  },
  {
   "cell_type": "code",
   "execution_count": 15,
   "metadata": {},
   "outputs": [
    {
     "name": "stdout",
     "output_type": "stream",
     "text": [
      "num_samples: 500; pred_value:10.188816645493953; split_feature:MachineHoursCurrentMeter ; split_value:2895.0 ; score:341.87466953644105; \n",
      "\tnum_samples: 270; pred_value:9.961048622339483; split_feature:MachineHoursCurrentMeter ; split_value:1380.0 ; score:180.89875253344553; \n",
      "\t\tnum_samples: 168; pred_value:9.870532437967945\n",
      "\t\tnum_samples: 102; pred_value:10.11013410248084\n",
      "\tnum_samples: 230; pred_value:10.456196498762242; split_feature:YearMade ; split_value:1997.0 ; score:153.06420698788946; \n",
      "\t\tnum_samples: 105; pred_value:10.269387976095055\n",
      "\t\tnum_samples: 125; pred_value:10.613115657802675\n",
      "num_samples: 500; pred_value:10.14593111231774; split_feature:MachineHoursCurrentMeter ; split_value:2151.0 ; score:338.71650497644873; \n",
      "\tnum_samples: 231; pred_value:9.853723853234072; split_feature:YearMade ; split_value:2001.0 ; score:143.15812990359294; \n",
      "\t\tnum_samples: 128; pred_value:9.709363971821459\n",
      "\t\tnum_samples: 103; pred_value:10.033122540814801\n",
      "\tnum_samples: 269; pred_value:10.39686002253457; split_feature:YearMade ; split_value:1997.0 ; score:185.18321379402656; \n",
      "\t\tnum_samples: 107; pred_value:10.191263684867756\n",
      "\t\tnum_samples: 162; pred_value:10.532655134450302\n"
     ]
    }
   ],
   "source": [
    "# This random forest\n",
    "my_rf = Random_forest(x_train, y_train, num_trees=2, sample_size = 500, min_leaf_samples=100, max_depth = 2)\n",
    "my_rf.trees[0].print_tree()\n",
    "my_rf.trees[1].print_tree()"
   ]
  },
  {
   "cell_type": "code",
   "execution_count": 16,
   "metadata": {},
   "outputs": [
    {
     "data": {
      "image/svg+xml": [
       "<?xml version=\"1.0\" encoding=\"UTF-8\" standalone=\"no\"?>\n",
       "<!DOCTYPE svg PUBLIC \"-//W3C//DTD SVG 1.1//EN\"\n",
       " \"http://www.w3.org/Graphics/SVG/1.1/DTD/svg11.dtd\">\n",
       "<!-- Generated by graphviz version 2.40.1 (20161225.0304)\n",
       " -->\n",
       "<!-- Title: Tree Pages: 1 -->\n",
       "<svg width=\"530pt\" height=\"321pt\"\n",
       " viewBox=\"0.00 0.00 530.00 321.20\" xmlns=\"http://www.w3.org/2000/svg\" xmlns:xlink=\"http://www.w3.org/1999/xlink\">\n",
       "<g id=\"graph0\" class=\"graph\" transform=\"scale(1 1) rotate(0) translate(4 317.2)\">\n",
       "<title>Tree</title>\n",
       "<polygon fill=\"#ffffff\" stroke=\"transparent\" points=\"-4,4 -4,-317.2 526,-317.2 526,4 -4,4\"/>\n",
       "<!-- 0 -->\n",
       "<g id=\"node1\" class=\"node\">\n",
       "<title>0</title>\n",
       "<polygon fill=\"#e58139\" fill-opacity=\"0.380392\" stroke=\"#000000\" points=\"224.5,-192.74 -.5,-192.74 -.5,-124.74 224.5,-124.74 224.5,-192.74\"/>\n",
       "<text text-anchor=\"start\" x=\"7.5\" y=\"-177.54\" font-family=\"Times,serif\" font-size=\"14.00\" fill=\"#000000\">MachineHoursCurrentMeter ≤ 2971.0</text>\n",
       "<text text-anchor=\"start\" x=\"80.5\" y=\"-162.54\" font-family=\"Times,serif\" font-size=\"14.00\" fill=\"#000000\">mse = 0.52</text>\n",
       "<text text-anchor=\"start\" x=\"71.5\" y=\"-147.54\" font-family=\"Times,serif\" font-size=\"14.00\" fill=\"#000000\">samples = 628</text>\n",
       "<text text-anchor=\"start\" x=\"74\" y=\"-132.54\" font-family=\"Times,serif\" font-size=\"14.00\" fill=\"#000000\">value = 10.15</text>\n",
       "</g>\n",
       "<!-- 1 -->\n",
       "<g id=\"node2\" class=\"node\">\n",
       "<title>1</title>\n",
       "<polygon fill=\"#e58139\" fill-opacity=\"0.117647\" stroke=\"#000000\" points=\"389,-241.74 261,-241.74 261,-173.74 389,-173.74 389,-241.74\"/>\n",
       "<text text-anchor=\"start\" x=\"269\" y=\"-226.54\" font-family=\"Times,serif\" font-size=\"14.00\" fill=\"#000000\">YearMade ≤ 2003.5</text>\n",
       "<text text-anchor=\"start\" x=\"293.5\" y=\"-211.54\" font-family=\"Times,serif\" font-size=\"14.00\" fill=\"#000000\">mse = 0.47</text>\n",
       "<text text-anchor=\"start\" x=\"284.5\" y=\"-196.54\" font-family=\"Times,serif\" font-size=\"14.00\" fill=\"#000000\">samples = 371</text>\n",
       "<text text-anchor=\"start\" x=\"290\" y=\"-181.54\" font-family=\"Times,serif\" font-size=\"14.00\" fill=\"#000000\">value = 9.94</text>\n",
       "</g>\n",
       "<!-- 0&#45;&gt;1 -->\n",
       "<g id=\"edge1\" class=\"edge\">\n",
       "<title>0&#45;&gt;1</title>\n",
       "<path fill=\"none\" stroke=\"#000000\" d=\"M224.7371,-184.6748C233.6307,-186.7208 242.4662,-188.7534 250.9943,-190.7152\"/>\n",
       "<polygon fill=\"#000000\" stroke=\"#000000\" points=\"250.3191,-194.1512 260.8493,-192.9823 251.8885,-187.3294 250.3191,-194.1512\"/>\n",
       "<text text-anchor=\"middle\" x=\"239.6584\" y=\"-202.5468\" font-family=\"Times,serif\" font-size=\"14.00\" fill=\"#000000\">True</text>\n",
       "</g>\n",
       "<!-- 4 -->\n",
       "<g id=\"node5\" class=\"node\">\n",
       "<title>4</title>\n",
       "<polygon fill=\"#e58139\" fill-opacity=\"0.764706\" stroke=\"#000000\" points=\"389,-142.74 261,-142.74 261,-74.74 389,-74.74 389,-142.74\"/>\n",
       "<text text-anchor=\"start\" x=\"269\" y=\"-127.54\" font-family=\"Times,serif\" font-size=\"14.00\" fill=\"#000000\">YearMade ≤ 1998.5</text>\n",
       "<text text-anchor=\"start\" x=\"293.5\" y=\"-112.54\" font-family=\"Times,serif\" font-size=\"14.00\" fill=\"#000000\">mse = 0.43</text>\n",
       "<text text-anchor=\"start\" x=\"284.5\" y=\"-97.54\" font-family=\"Times,serif\" font-size=\"14.00\" fill=\"#000000\">samples = 257</text>\n",
       "<text text-anchor=\"start\" x=\"287\" y=\"-82.54\" font-family=\"Times,serif\" font-size=\"14.00\" fill=\"#000000\">value = 10.46</text>\n",
       "</g>\n",
       "<!-- 0&#45;&gt;4 -->\n",
       "<g id=\"edge4\" class=\"edge\">\n",
       "<title>0&#45;&gt;4</title>\n",
       "<path fill=\"none\" stroke=\"#000000\" d=\"M224.7371,-132.2759C233.6307,-130.1882 242.4662,-128.1141 250.9943,-126.1122\"/>\n",
       "<polygon fill=\"#000000\" stroke=\"#000000\" points=\"251.9138,-129.4916 260.8493,-123.7989 250.314,-122.6768 251.9138,-129.4916\"/>\n",
       "<text text-anchor=\"middle\" x=\"239.5995\" y=\"-106.9289\" font-family=\"Times,serif\" font-size=\"14.00\" fill=\"#000000\">False</text>\n",
       "</g>\n",
       "<!-- 2 -->\n",
       "<g id=\"node3\" class=\"node\">\n",
       "<title>2</title>\n",
       "<polygon fill=\"transparent\" stroke=\"#000000\" points=\"522.5,-309.24 425.5,-309.24 425.5,-256.24 522.5,-256.24 522.5,-309.24\"/>\n",
       "<text text-anchor=\"start\" x=\"442.5\" y=\"-294.04\" font-family=\"Times,serif\" font-size=\"14.00\" fill=\"#000000\">mse = 0.42</text>\n",
       "<text text-anchor=\"start\" x=\"433.5\" y=\"-279.04\" font-family=\"Times,serif\" font-size=\"14.00\" fill=\"#000000\">samples = 246</text>\n",
       "<text text-anchor=\"start\" x=\"439\" y=\"-264.04\" font-family=\"Times,serif\" font-size=\"14.00\" fill=\"#000000\">value = 9.84</text>\n",
       "</g>\n",
       "<!-- 1&#45;&gt;2 -->\n",
       "<g id=\"edge2\" class=\"edge\">\n",
       "<title>1&#45;&gt;2</title>\n",
       "<path fill=\"none\" stroke=\"#000000\" d=\"M389.0541,-239.982C398.0693,-244.5199 407.2927,-249.1625 416.1821,-253.637\"/>\n",
       "<polygon fill=\"#000000\" stroke=\"#000000\" points=\"414.7961,-256.8577 425.3021,-258.2276 417.9434,-250.6052 414.7961,-256.8577\"/>\n",
       "</g>\n",
       "<!-- 3 -->\n",
       "<g id=\"node4\" class=\"node\">\n",
       "<title>3</title>\n",
       "<polygon fill=\"#e58139\" fill-opacity=\"0.337255\" stroke=\"#000000\" points=\"522.5,-226.24 425.5,-226.24 425.5,-173.24 522.5,-173.24 522.5,-226.24\"/>\n",
       "<text text-anchor=\"start\" x=\"442.5\" y=\"-211.04\" font-family=\"Times,serif\" font-size=\"14.00\" fill=\"#000000\">mse = 0.51</text>\n",
       "<text text-anchor=\"start\" x=\"433.5\" y=\"-196.04\" font-family=\"Times,serif\" font-size=\"14.00\" fill=\"#000000\">samples = 125</text>\n",
       "<text text-anchor=\"start\" x=\"436\" y=\"-181.04\" font-family=\"Times,serif\" font-size=\"14.00\" fill=\"#000000\">value = 10.11</text>\n",
       "</g>\n",
       "<!-- 1&#45;&gt;3 -->\n",
       "<g id=\"edge3\" class=\"edge\">\n",
       "<title>1&#45;&gt;3</title>\n",
       "<path fill=\"none\" stroke=\"#000000\" d=\"M389.0541,-204.3009C397.6897,-203.8372 406.5164,-203.3633 415.0575,-202.9047\"/>\n",
       "<polygon fill=\"#000000\" stroke=\"#000000\" points=\"415.5041,-206.3859 425.3021,-202.3547 415.1288,-199.3959 415.5041,-206.3859\"/>\n",
       "</g>\n",
       "<!-- 5 -->\n",
       "<g id=\"node6\" class=\"node\">\n",
       "<title>5</title>\n",
       "<polygon fill=\"#e58139\" fill-opacity=\"0.513725\" stroke=\"#000000\" points=\"522.5,-139.24 425.5,-139.24 425.5,-86.24 522.5,-86.24 522.5,-139.24\"/>\n",
       "<text text-anchor=\"start\" x=\"442.5\" y=\"-124.04\" font-family=\"Times,serif\" font-size=\"14.00\" fill=\"#000000\">mse = 0.46</text>\n",
       "<text text-anchor=\"start\" x=\"433.5\" y=\"-109.04\" font-family=\"Times,serif\" font-size=\"14.00\" fill=\"#000000\">samples = 127</text>\n",
       "<text text-anchor=\"start\" x=\"436\" y=\"-94.04\" font-family=\"Times,serif\" font-size=\"14.00\" fill=\"#000000\">value = 10.26</text>\n",
       "</g>\n",
       "<!-- 4&#45;&gt;5 -->\n",
       "<g id=\"edge5\" class=\"edge\">\n",
       "<title>4&#45;&gt;5</title>\n",
       "<path fill=\"none\" stroke=\"#000000\" d=\"M389.0541,-110.4596C397.6897,-110.6914 406.5164,-110.9284 415.0575,-111.1576\"/>\n",
       "<polygon fill=\"#000000\" stroke=\"#000000\" points=\"415.2117,-114.663 425.3021,-111.4327 415.3996,-107.6655 415.2117,-114.663\"/>\n",
       "</g>\n",
       "<!-- 6 -->\n",
       "<g id=\"node7\" class=\"node\">\n",
       "<title>6</title>\n",
       "<polygon fill=\"#e58139\" stroke=\"#000000\" points=\"522.5,-57.24 425.5,-57.24 425.5,-4.24 522.5,-4.24 522.5,-57.24\"/>\n",
       "<text text-anchor=\"start\" x=\"442.5\" y=\"-42.04\" font-family=\"Times,serif\" font-size=\"14.00\" fill=\"#000000\">mse = 0.33</text>\n",
       "<text text-anchor=\"start\" x=\"433.5\" y=\"-27.04\" font-family=\"Times,serif\" font-size=\"14.00\" fill=\"#000000\">samples = 130</text>\n",
       "<text text-anchor=\"start\" x=\"436\" y=\"-12.04\" font-family=\"Times,serif\" font-size=\"14.00\" fill=\"#000000\">value = 10.65</text>\n",
       "</g>\n",
       "<!-- 4&#45;&gt;6 -->\n",
       "<g id=\"edge6\" class=\"edge\">\n",
       "<title>4&#45;&gt;6</title>\n",
       "<path fill=\"none\" stroke=\"#000000\" d=\"M389.0541,-75.2083C398.0693,-70.4889 407.2927,-65.6606 416.1821,-61.0071\"/>\n",
       "<polygon fill=\"#000000\" stroke=\"#000000\" points=\"418.0658,-63.9716 425.3021,-56.2329 414.8193,-57.77 418.0658,-63.9716\"/>\n",
       "</g>\n",
       "</g>\n",
       "</svg>\n"
      ],
      "text/plain": [
       "<graphviz.files.Source at 0x7f0ab34c9400>"
      ]
     },
     "metadata": {},
     "output_type": "display_data"
    },
    {
     "data": {
      "image/svg+xml": [
       "<?xml version=\"1.0\" encoding=\"UTF-8\" standalone=\"no\"?>\n",
       "<!DOCTYPE svg PUBLIC \"-//W3C//DTD SVG 1.1//EN\"\n",
       " \"http://www.w3.org/Graphics/SVG/1.1/DTD/svg11.dtd\">\n",
       "<!-- Generated by graphviz version 2.40.1 (20161225.0304)\n",
       " -->\n",
       "<!-- Title: Tree Pages: 1 -->\n",
       "<svg width=\"530pt\" height=\"321pt\"\n",
       " viewBox=\"0.00 0.00 530.00 321.20\" xmlns=\"http://www.w3.org/2000/svg\" xmlns:xlink=\"http://www.w3.org/1999/xlink\">\n",
       "<g id=\"graph0\" class=\"graph\" transform=\"scale(1 1) rotate(0) translate(4 317.2)\">\n",
       "<title>Tree</title>\n",
       "<polygon fill=\"#ffffff\" stroke=\"transparent\" points=\"-4,4 -4,-317.2 526,-317.2 526,4 -4,4\"/>\n",
       "<!-- 0 -->\n",
       "<g id=\"node1\" class=\"node\">\n",
       "<title>0</title>\n",
       "<polygon fill=\"#e58139\" fill-opacity=\"0.545098\" stroke=\"#000000\" points=\"224.5,-192.74 -.5,-192.74 -.5,-124.74 224.5,-124.74 224.5,-192.74\"/>\n",
       "<text text-anchor=\"start\" x=\"7.5\" y=\"-177.54\" font-family=\"Times,serif\" font-size=\"14.00\" fill=\"#000000\">MachineHoursCurrentMeter ≤ 2170.0</text>\n",
       "<text text-anchor=\"start\" x=\"80.5\" y=\"-162.54\" font-family=\"Times,serif\" font-size=\"14.00\" fill=\"#000000\">mse = 0.49</text>\n",
       "<text text-anchor=\"start\" x=\"71.5\" y=\"-147.54\" font-family=\"Times,serif\" font-size=\"14.00\" fill=\"#000000\">samples = 637</text>\n",
       "<text text-anchor=\"start\" x=\"74\" y=\"-132.54\" font-family=\"Times,serif\" font-size=\"14.00\" fill=\"#000000\">value = 10.21</text>\n",
       "</g>\n",
       "<!-- 1 -->\n",
       "<g id=\"node2\" class=\"node\">\n",
       "<title>1</title>\n",
       "<polygon fill=\"#e58139\" fill-opacity=\"0.180392\" stroke=\"#000000\" points=\"389,-241.74 261,-241.74 261,-173.74 389,-173.74 389,-241.74\"/>\n",
       "<text text-anchor=\"start\" x=\"269\" y=\"-226.54\" font-family=\"Times,serif\" font-size=\"14.00\" fill=\"#000000\">YearMade ≤ 2003.5</text>\n",
       "<text text-anchor=\"start\" x=\"293.5\" y=\"-211.54\" font-family=\"Times,serif\" font-size=\"14.00\" fill=\"#000000\">mse = 0.44</text>\n",
       "<text text-anchor=\"start\" x=\"284.5\" y=\"-196.54\" font-family=\"Times,serif\" font-size=\"14.00\" fill=\"#000000\">samples = 291</text>\n",
       "<text text-anchor=\"start\" x=\"290\" y=\"-181.54\" font-family=\"Times,serif\" font-size=\"14.00\" fill=\"#000000\">value = 9.95</text>\n",
       "</g>\n",
       "<!-- 0&#45;&gt;1 -->\n",
       "<g id=\"edge1\" class=\"edge\">\n",
       "<title>0&#45;&gt;1</title>\n",
       "<path fill=\"none\" stroke=\"#000000\" d=\"M224.7371,-184.6748C233.6307,-186.7208 242.4662,-188.7534 250.9943,-190.7152\"/>\n",
       "<polygon fill=\"#000000\" stroke=\"#000000\" points=\"250.3191,-194.1512 260.8493,-192.9823 251.8885,-187.3294 250.3191,-194.1512\"/>\n",
       "<text text-anchor=\"middle\" x=\"239.6584\" y=\"-202.5468\" font-family=\"Times,serif\" font-size=\"14.00\" fill=\"#000000\">True</text>\n",
       "</g>\n",
       "<!-- 4 -->\n",
       "<g id=\"node5\" class=\"node\">\n",
       "<title>4</title>\n",
       "<polygon fill=\"#e58139\" fill-opacity=\"0.827451\" stroke=\"#000000\" points=\"389,-142.74 261,-142.74 261,-74.74 389,-74.74 389,-142.74\"/>\n",
       "<text text-anchor=\"start\" x=\"269\" y=\"-127.54\" font-family=\"Times,serif\" font-size=\"14.00\" fill=\"#000000\">YearMade ≤ 1997.5</text>\n",
       "<text text-anchor=\"start\" x=\"293.5\" y=\"-112.54\" font-family=\"Times,serif\" font-size=\"14.00\" fill=\"#000000\">mse = 0.44</text>\n",
       "<text text-anchor=\"start\" x=\"284.5\" y=\"-97.54\" font-family=\"Times,serif\" font-size=\"14.00\" fill=\"#000000\">samples = 346</text>\n",
       "<text text-anchor=\"start\" x=\"287\" y=\"-82.54\" font-family=\"Times,serif\" font-size=\"14.00\" fill=\"#000000\">value = 10.41</text>\n",
       "</g>\n",
       "<!-- 0&#45;&gt;4 -->\n",
       "<g id=\"edge4\" class=\"edge\">\n",
       "<title>0&#45;&gt;4</title>\n",
       "<path fill=\"none\" stroke=\"#000000\" d=\"M224.7371,-132.2759C233.6307,-130.1882 242.4662,-128.1141 250.9943,-126.1122\"/>\n",
       "<polygon fill=\"#000000\" stroke=\"#000000\" points=\"251.9138,-129.4916 260.8493,-123.7989 250.314,-122.6768 251.9138,-129.4916\"/>\n",
       "<text text-anchor=\"middle\" x=\"239.5995\" y=\"-106.9289\" font-family=\"Times,serif\" font-size=\"14.00\" fill=\"#000000\">False</text>\n",
       "</g>\n",
       "<!-- 2 -->\n",
       "<g id=\"node3\" class=\"node\">\n",
       "<title>2</title>\n",
       "<polygon fill=\"transparent\" stroke=\"#000000\" points=\"522.5,-309.24 425.5,-309.24 425.5,-256.24 522.5,-256.24 522.5,-309.24\"/>\n",
       "<text text-anchor=\"start\" x=\"442.5\" y=\"-294.04\" font-family=\"Times,serif\" font-size=\"14.00\" fill=\"#000000\">mse = 0.43</text>\n",
       "<text text-anchor=\"start\" x=\"433.5\" y=\"-279.04\" font-family=\"Times,serif\" font-size=\"14.00\" fill=\"#000000\">samples = 188</text>\n",
       "<text text-anchor=\"start\" x=\"439\" y=\"-264.04\" font-family=\"Times,serif\" font-size=\"14.00\" fill=\"#000000\">value = 9.82</text>\n",
       "</g>\n",
       "<!-- 1&#45;&gt;2 -->\n",
       "<g id=\"edge2\" class=\"edge\">\n",
       "<title>1&#45;&gt;2</title>\n",
       "<path fill=\"none\" stroke=\"#000000\" d=\"M389.0541,-239.982C398.0693,-244.5199 407.2927,-249.1625 416.1821,-253.637\"/>\n",
       "<polygon fill=\"#000000\" stroke=\"#000000\" points=\"414.7961,-256.8577 425.3021,-258.2276 417.9434,-250.6052 414.7961,-256.8577\"/>\n",
       "</g>\n",
       "<!-- 3 -->\n",
       "<g id=\"node4\" class=\"node\">\n",
       "<title>3</title>\n",
       "<polygon fill=\"#e58139\" fill-opacity=\"0.513725\" stroke=\"#000000\" points=\"522.5,-226.24 425.5,-226.24 425.5,-173.24 522.5,-173.24 522.5,-226.24\"/>\n",
       "<text text-anchor=\"start\" x=\"442.5\" y=\"-211.04\" font-family=\"Times,serif\" font-size=\"14.00\" fill=\"#000000\">mse = 0.37</text>\n",
       "<text text-anchor=\"start\" x=\"433.5\" y=\"-196.04\" font-family=\"Times,serif\" font-size=\"14.00\" fill=\"#000000\">samples = 103</text>\n",
       "<text text-anchor=\"start\" x=\"436\" y=\"-181.04\" font-family=\"Times,serif\" font-size=\"14.00\" fill=\"#000000\">value = 10.18</text>\n",
       "</g>\n",
       "<!-- 1&#45;&gt;3 -->\n",
       "<g id=\"edge3\" class=\"edge\">\n",
       "<title>1&#45;&gt;3</title>\n",
       "<path fill=\"none\" stroke=\"#000000\" d=\"M389.0541,-204.3009C397.6897,-203.8372 406.5164,-203.3633 415.0575,-202.9047\"/>\n",
       "<polygon fill=\"#000000\" stroke=\"#000000\" points=\"415.5041,-206.3859 425.3021,-202.3547 415.1288,-199.3959 415.5041,-206.3859\"/>\n",
       "</g>\n",
       "<!-- 5 -->\n",
       "<g id=\"node6\" class=\"node\">\n",
       "<title>5</title>\n",
       "<polygon fill=\"#e58139\" fill-opacity=\"0.517647\" stroke=\"#000000\" points=\"522.5,-139.24 425.5,-139.24 425.5,-86.24 522.5,-86.24 522.5,-139.24\"/>\n",
       "<text text-anchor=\"start\" x=\"442.5\" y=\"-124.04\" font-family=\"Times,serif\" font-size=\"14.00\" fill=\"#000000\">mse = 0.42</text>\n",
       "<text text-anchor=\"start\" x=\"433.5\" y=\"-109.04\" font-family=\"Times,serif\" font-size=\"14.00\" fill=\"#000000\">samples = 123</text>\n",
       "<text text-anchor=\"start\" x=\"436\" y=\"-94.04\" font-family=\"Times,serif\" font-size=\"14.00\" fill=\"#000000\">value = 10.19</text>\n",
       "</g>\n",
       "<!-- 4&#45;&gt;5 -->\n",
       "<g id=\"edge5\" class=\"edge\">\n",
       "<title>4&#45;&gt;5</title>\n",
       "<path fill=\"none\" stroke=\"#000000\" d=\"M389.0541,-110.4596C397.6897,-110.6914 406.5164,-110.9284 415.0575,-111.1576\"/>\n",
       "<polygon fill=\"#000000\" stroke=\"#000000\" points=\"415.2117,-114.663 425.3021,-111.4327 415.3996,-107.6655 415.2117,-114.663\"/>\n",
       "</g>\n",
       "<!-- 6 -->\n",
       "<g id=\"node7\" class=\"node\">\n",
       "<title>6</title>\n",
       "<polygon fill=\"#e58139\" stroke=\"#000000\" points=\"522.5,-57.24 425.5,-57.24 425.5,-4.24 522.5,-4.24 522.5,-57.24\"/>\n",
       "<text text-anchor=\"start\" x=\"442.5\" y=\"-42.04\" font-family=\"Times,serif\" font-size=\"14.00\" fill=\"#000000\">mse = 0.41</text>\n",
       "<text text-anchor=\"start\" x=\"433.5\" y=\"-27.04\" font-family=\"Times,serif\" font-size=\"14.00\" fill=\"#000000\">samples = 223</text>\n",
       "<text text-anchor=\"start\" x=\"436\" y=\"-12.04\" font-family=\"Times,serif\" font-size=\"14.00\" fill=\"#000000\">value = 10.53</text>\n",
       "</g>\n",
       "<!-- 4&#45;&gt;6 -->\n",
       "<g id=\"edge6\" class=\"edge\">\n",
       "<title>4&#45;&gt;6</title>\n",
       "<path fill=\"none\" stroke=\"#000000\" d=\"M389.0541,-75.2083C398.0693,-70.4889 407.2927,-65.6606 416.1821,-61.0071\"/>\n",
       "<polygon fill=\"#000000\" stroke=\"#000000\" points=\"418.0658,-63.9716 425.3021,-56.2329 414.8193,-57.77 418.0658,-63.9716\"/>\n",
       "</g>\n",
       "</g>\n",
       "</svg>\n"
      ],
      "text/plain": [
       "<graphviz.files.Source at 0x7f0ab4aba0f0>"
      ]
     },
     "metadata": {},
     "output_type": "display_data"
    }
   ],
   "source": [
    "# Sklearn random forest for comparison\n",
    "sklearn_rf = RandomForestRegressor(n_estimators=2, max_depth=2, min_samples_leaf= 100, bootstrap=True)\n",
    "sklearn_rf.fit(x_train, y_train)\n",
    "draw_tree(sklearn_rf.estimators_[0], x_train, precision=2)\n",
    "draw_tree(sklearn_rf.estimators_[1], x_train, precision=2)"
   ]
  },
  {
   "cell_type": "markdown",
   "metadata": {},
   "source": [
    "#### Prediction for 1 validation sample, and validation set"
   ]
  },
  {
   "cell_type": "code",
   "execution_count": 17,
   "metadata": {},
   "outputs": [
    {
     "data": {
      "text/plain": [
       "array([ 10.23032583])"
      ]
     },
     "execution_count": 17,
     "metadata": {},
     "output_type": "execute_result"
    }
   ],
   "source": [
    "# Make example prediction with this model:\n",
    "cols = ['YearMade', 'MachineHoursCurrentMeter']\n",
    "preds = my_rf.predict(x_val_sample[cols].values)\n",
    "preds"
   ]
  },
  {
   "cell_type": "code",
   "execution_count": 18,
   "metadata": {},
   "outputs": [
    {
     "data": {
      "text/plain": [
       "array([ 10.22220924])"
      ]
     },
     "execution_count": 18,
     "metadata": {},
     "output_type": "execute_result"
    }
   ],
   "source": [
    "# Make example prediction with sklearn model:\n",
    "sklearn_rf.predict(x_val_sample)"
   ]
  },
  {
   "cell_type": "code",
   "execution_count": 19,
   "metadata": {},
   "outputs": [
    {
     "data": {
      "text/plain": [
       "-3.8813431688328457"
      ]
     },
     "execution_count": 19,
     "metadata": {},
     "output_type": "execute_result"
    }
   ],
   "source": [
    "# Make validation set prediction with this model:\n",
    "preds = my_rf.predict(x_val[cols].values)\n",
    "r2_score(preds, y_val)"
   ]
  },
  {
   "cell_type": "code",
   "execution_count": 20,
   "metadata": {},
   "outputs": [
    {
     "data": {
      "text/plain": [
       "-4.6766654262608736"
      ]
     },
     "execution_count": 20,
     "metadata": {},
     "output_type": "execute_result"
    }
   ],
   "source": [
    "# Make validation set prediction with sklearn model:\n",
    "preds = sklearn_rf.predict(x_val[cols].values)\n",
    "r2_score(preds, y_val)"
   ]
  }
 ],
 "metadata": {
  "kernelspec": {
   "display_name": "Python 3",
   "language": "python",
   "name": "python3"
  },
  "language_info": {
   "codemirror_mode": {
    "name": "ipython",
    "version": 3
   },
   "file_extension": ".py",
   "mimetype": "text/x-python",
   "name": "python",
   "nbconvert_exporter": "python",
   "pygments_lexer": "ipython3",
   "version": "3.6.3"
  }
 },
 "nbformat": 4,
 "nbformat_minor": 2
}
