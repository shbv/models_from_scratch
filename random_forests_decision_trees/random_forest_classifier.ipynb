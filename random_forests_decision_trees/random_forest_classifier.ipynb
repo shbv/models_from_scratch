{
 "cells": [
  {
   "cell_type": "markdown",
   "metadata": {},
   "source": [
    "# Random forest classifier from scratch"
   ]
  },
  {
   "cell_type": "markdown",
   "metadata": {},
   "source": [
    "## Packages"
   ]
  },
  {
   "cell_type": "code",
   "execution_count": 1,
   "metadata": {
    "collapsed": true
   },
   "outputs": [],
   "source": [
    "import numpy as np\n",
    "import pandas as pd\n",
    "import matplotlib.pyplot as plt\n",
    "import math \n",
    "import operator\n",
    "%matplotlib inline\n",
    "from scipy.stats import itemfreq"
   ]
  },
  {
   "cell_type": "code",
   "execution_count": 2,
   "metadata": {
    "collapsed": true
   },
   "outputs": [],
   "source": [
    "from sklearn.ensemble import RandomForestRegressor, RandomForestClassifier\n",
    "from IPython.display import display\n",
    "from sklearn.tree import export_graphviz\n",
    "import IPython, graphviz, re\n",
    "from sklearn.metrics import r2_score"
   ]
  },
  {
   "cell_type": "markdown",
   "metadata": {},
   "source": [
    "## Utils"
   ]
  },
  {
   "cell_type": "code",
   "execution_count": 3,
   "metadata": {
    "collapsed": true
   },
   "outputs": [],
   "source": [
    "# Draw tree (from fast.ai)\n",
    "def draw_tree(t, df, size=10, ratio=0.6, precision=0):\n",
    "    \"\"\" Draws a representation of a random forest in IPython.\n",
    "\n",
    "    Parameters:\n",
    "    -----------\n",
    "    t: The tree you wish to draw\n",
    "    df: The data used to train the tree. This is used to get the names of the features.\n",
    "    \"\"\"\n",
    "    s=export_graphviz(t, out_file=None, feature_names=df.columns, filled=True,\n",
    "                      special_characters=True, rotate=True, precision=precision)\n",
    "    IPython.display.display(graphviz.Source(re.sub('Tree {',\n",
    "       f'Tree {{ size={size}; ratio={ratio}', s)))"
   ]
  },
  {
   "cell_type": "markdown",
   "metadata": {},
   "source": [
    "## Data"
   ]
  },
  {
   "cell_type": "code",
   "execution_count": 4,
   "metadata": {},
   "outputs": [
    {
     "data": {
      "text/html": [
       "<div>\n",
       "<style>\n",
       "    .dataframe thead tr:only-child th {\n",
       "        text-align: right;\n",
       "    }\n",
       "\n",
       "    .dataframe thead th {\n",
       "        text-align: left;\n",
       "    }\n",
       "\n",
       "    .dataframe tbody tr th {\n",
       "        vertical-align: top;\n",
       "    }\n",
       "</style>\n",
       "<table border=\"1\" class=\"dataframe\">\n",
       "  <thead>\n",
       "    <tr style=\"text-align: right;\">\n",
       "      <th></th>\n",
       "      <th>color</th>\n",
       "      <th>diameter</th>\n",
       "      <th>label</th>\n",
       "    </tr>\n",
       "  </thead>\n",
       "  <tbody>\n",
       "    <tr>\n",
       "      <th>0</th>\n",
       "      <td>2000</td>\n",
       "      <td>30</td>\n",
       "      <td>0</td>\n",
       "    </tr>\n",
       "    <tr>\n",
       "      <th>1</th>\n",
       "      <td>4000</td>\n",
       "      <td>30</td>\n",
       "      <td>0</td>\n",
       "    </tr>\n",
       "    <tr>\n",
       "      <th>2</th>\n",
       "      <td>6000</td>\n",
       "      <td>10</td>\n",
       "      <td>1</td>\n",
       "    </tr>\n",
       "    <tr>\n",
       "      <th>3</th>\n",
       "      <td>6000</td>\n",
       "      <td>10</td>\n",
       "      <td>1</td>\n",
       "    </tr>\n",
       "    <tr>\n",
       "      <th>4</th>\n",
       "      <td>4000</td>\n",
       "      <td>20</td>\n",
       "      <td>2</td>\n",
       "    </tr>\n",
       "  </tbody>\n",
       "</table>\n",
       "</div>"
      ],
      "text/plain": [
       "   color  diameter  label\n",
       "0   2000        30      0\n",
       "1   4000        30      0\n",
       "2   6000        10      1\n",
       "3   6000        10      1\n",
       "4   4000        20      2"
      ]
     },
     "execution_count": 4,
     "metadata": {},
     "output_type": "execute_result"
    }
   ],
   "source": [
    "df_raw = pd.read_csv('data/sample_train.csv')\n",
    "df_raw.head()"
   ]
  },
  {
   "cell_type": "code",
   "execution_count": 5,
   "metadata": {},
   "outputs": [
    {
     "data": {
      "text/plain": [
       "((10, 2), (10,))"
      ]
     },
     "execution_count": 5,
     "metadata": {},
     "output_type": "execute_result"
    }
   ],
   "source": [
    "# Get x_train and y_train\n",
    "x_train = df_raw.drop('label', axis=1)\n",
    "y_train = df_raw['label'].values\n",
    "\n",
    "# Print shapes\n",
    "x_train.shape, y_train.shape"
   ]
  },
  {
   "cell_type": "code",
   "execution_count": 6,
   "metadata": {},
   "outputs": [
    {
     "data": {
      "text/plain": [
       "(   color  diameter\n",
       " 0   2000        30\n",
       " 1   4000        30\n",
       " 2   6000        10\n",
       " 3   6000        10\n",
       " 4   4000        20\n",
       " 5   2000        40\n",
       " 6   6000        40\n",
       " 7   2000        10\n",
       " 8   6000        20\n",
       " 9   8000        10, array([0, 0, 1, 1, 2, 3, 3, 1, 4, 5]))"
      ]
     },
     "execution_count": 6,
     "metadata": {},
     "output_type": "execute_result"
    }
   ],
   "source": [
    "x_train, y_train"
   ]
  },
  {
   "cell_type": "code",
   "execution_count": 7,
   "metadata": {},
   "outputs": [
    {
     "data": {
      "text/plain": [
       "((8, 2), (8,), (2, 2), (2,))"
      ]
     },
     "execution_count": 7,
     "metadata": {},
     "output_type": "execute_result"
    }
   ],
   "source": [
    "x_val_sample = x_train.iloc[8:9]\n",
    "y_val_sample = y_train[8:9]\n",
    "x_val = x_train.iloc[8:]\n",
    "y_val = y_train[8:]\n",
    "x_train = x_train.iloc[:8]\n",
    "y_train = y_train[:8]\n",
    "x_train.shape, y_train.shape, x_val.shape, y_val.shape"
   ]
  },
  {
   "cell_type": "markdown",
   "metadata": {},
   "source": [
    "## Random forest with decision tree model"
   ]
  },
  {
   "cell_type": "markdown",
   "metadata": {},
   "source": [
    "### Class and functions"
   ]
  },
  {
   "cell_type": "code",
   "execution_count": 8,
   "metadata": {},
   "outputs": [],
   "source": [
    "# Random forest class \n",
    "# Note: features are columns, samples are rows, x is independent variable, y is dependent variable\n",
    "class Random_forest():\n",
    "    \n",
    "    # Create ensemble of trees\n",
    "    def __init__(self, x, y, num_trees, sample_size=None, min_leaf_samples = 1, max_depth=None):\n",
    "        # If we want predictable results for testing, use here: np.random.seed(100)\n",
    "        self.x = x ; self.y = y  \n",
    "        if sample_size is None:\n",
    "            self.sample_size = x.shape[0]  \n",
    "        else:\n",
    "            self.sample_size = sample_size  \n",
    "        self.min_leaf_samples = min_leaf_samples\n",
    "        self.max_depth = max_depth\n",
    "        self.trees = [self.build_tree() for i in range(num_trees)]\n",
    "\n",
    "    # Create one decision tree with sample_size rows chosen\n",
    "    def build_tree(self):\n",
    "        sample_idxs = np.random.permutation(len(self.y))[:self.sample_size]\n",
    "        tree = Decision_tree(self.x.iloc[sample_idxs], \n",
    "                             self.y[sample_idxs], \n",
    "                             idxs = np.array(range(self.sample_size)), \n",
    "                             min_leaf_samples = self.min_leaf_samples, max_depth = self.max_depth, depth=None)\n",
    "        return tree\n",
    "    \n",
    "    # Make mean prediction of all trees\n",
    "    def predict(self, x):\n",
    "        #return np.mean([tree.predict(x) for tree in self.trees], axis=0)\n",
    "        preds = [tree.predict(x) for tree in self.trees]\n",
    "        return np.array([majority_vote(np.array(preds)[:,i]) for i in range(len(x))])\n",
    "        \n",
    "    \n",
    "# Decision tree class \n",
    "# Note: features are columns, samples are rows, x is independent variable, y is dependent variable\n",
    "class Decision_tree():\n",
    "    \n",
    "    # Initialize\n",
    "    def __init__(self, x, y, idxs = None, min_leaf_samples = 1, max_depth = None, depth=None):\n",
    "        self.x = x ; self.y = y \n",
    "        self.sample_idxs = idxs \n",
    "        self.min_leaf_samples = min_leaf_samples\n",
    "        self.num_samples = len(idxs)\n",
    "        self.num_features = x.shape[1]\n",
    "        self.pred_value = majority_vote(y[idxs]) # Predictive value at this node of tree: using majority voting of y\n",
    "        #self.pred_value = pd.Series(y[idxs]).value_counts()[0]; # Predictive value at this node of tree: using majority voting of y\n",
    "        self.score = gini_impurity(y[idxs]) ; # Score used by decision tree to find the split\n",
    "        self.best_score = float('-inf')\n",
    "        self.best_feature_idx = None\n",
    "        self.split_feature_name = None\n",
    "        self.split_feature_value = None\n",
    "        self.left_child_tree = None ; # Left tree is less than or equal to split value\n",
    "        self.left_child_tree = None ; # Right tree is greater than or not equal to split value\n",
    "        self.max_depth = max_depth ;\n",
    "        if depth is None: \n",
    "            self.depth = 0\n",
    "        else:\n",
    "            self.depth = depth\n",
    "        self.leaf_node = True\n",
    "        self.find_best_split_feature()\n",
    "        \n",
    "    # Find the best feature to split\n",
    "    def find_best_split_feature(self):\n",
    "        # find best split value\n",
    "        for feature_idx in range(self.num_features): \n",
    "            self.find_best_split_feature_value(feature_idx)\n",
    "        # base case of recursion. Stop at leaf\n",
    "        if self.is_leaf_node(): return        \n",
    "        #self.score = self.best_score\n",
    "        # best split feature and value are found ; recurse on the children here\n",
    "        best_feature = self.x.values[self.sample_idxs, self.best_feature_idx]\n",
    "        best_feature_val = self.split_feature_value\n",
    "        if is_numeric(best_feature_val):\n",
    "            left_split_idxs = np.nonzero(best_feature <= best_feature_val)[0] ; # first element of tuple gives indices\n",
    "            right_split_idxs = np.nonzero(best_feature > best_feature_val)[0]\n",
    "        else:\n",
    "            left_split_idxs = np.nonzero(best_feature == best_feature_val)[0] ; # first element of tuple gives indices\n",
    "            right_split_idxs = np.nonzero(best_feature != best_feature_val)[0]\n",
    "        self.left_child_tree = Decision_tree(self.x, self.y, \n",
    "                                             self.sample_idxs[left_split_idxs], \n",
    "                                             min_leaf_samples = self.min_leaf_samples,\n",
    "                                             max_depth = self.max_depth, depth=self.depth + 1)\n",
    "        self.right_child_tree = Decision_tree(self.x, self.y, \n",
    "                                              self.sample_idxs[right_split_idxs], \n",
    "                                              min_leaf_samples = self.min_leaf_samples,\n",
    "                                              max_depth = self.max_depth, depth=self.depth + 1)\n",
    "\n",
    "    # Find the best value to split in given feature: \n",
    "    # Using stddev here as score metric\n",
    "    def find_best_split_feature_value(self, feature_idx):\n",
    "        \n",
    "        current_x = self.x.values[self.sample_idxs, feature_idx]\n",
    "        current_y = self.y[self.sample_idxs]\n",
    "        feature = self.x.columns[feature_idx]\n",
    "        \n",
    "        # Approach:\n",
    "        approach = 'gini_info_gain' ; # Can enable stddev for numeric values if desired. Disable gini in that case\n",
    "        \n",
    "        # Info gain with gini approach:\n",
    "        if approach == 'gini_info_gain':            \n",
    "            feature_freq = dict(pd.Series(current_x).value_counts())\n",
    "            for value, _ in feature_freq.items():          \n",
    "                #print(\"depth, feature, value\", self.depth, feature, value)\n",
    "                # Get all sample indices on left and right\n",
    "                if is_numeric(value):\n",
    "                    left_split_idxs = np.nonzero(current_x <= value)[0] ; # first element of tuple gives indices\n",
    "                    right_split_idxs = np.nonzero(current_x > value)[0]\n",
    "                else:\n",
    "                    left_split_idxs = np.nonzero(current_x == value)[0] ; # first element of tuple gives indices\n",
    "                    right_split_idxs = np.nonzero(current_x != value)[0]\n",
    "                # Dont go below min_leaf_samples on left split or right split\n",
    "                if len(left_split_idxs) < self.min_leaf_samples or len(right_split_idxs) < self.min_leaf_samples:\n",
    "                    continue\n",
    "                # Calculate info gain on this split\n",
    "                score = gini_info_gain(self.score, current_y[left_split_idxs], current_y[right_split_idxs])\n",
    "                #print(\"left_split_idxs\", left_split_idxs) ;  print(\"right_split_idxs\", right_split_idxs)\n",
    "                #print(\"curr_best_score, gini_info_gain:\", self.best_score, score)\n",
    "                if score > 0. and score > self.best_score:\n",
    "                    self.best_score = score ; self.best_feature_idx = feature_idx \n",
    "                    self.split_feature_name = self.x.columns[feature_idx]\n",
    "                    self.split_feature_value = value                   \n",
    "                    self.leaf_node = False\n",
    "                    \n",
    "        # std_dev approach:\n",
    "        elif approach == 'stddev': \n",
    "            # find feature value with least stddev \n",
    "            # its computationally efficient to sort x by value once and find stddev of all possible value splits of x\n",
    "            idxs_sorted = np.argsort(current_x)\n",
    "            current_x_sorted = current_x[idxs_sorted] ;  current_y_sorted = current_y[idxs_sorted]\n",
    "            left_split_cnt, left_split_sum, left_split_sumsquares = 0, 0.0, 0.0\n",
    "            right_split_cnt, right_split_sum, right_split_sumsquares = self.num_samples, current_y_sorted.sum(), (current_y_sorted**2).sum()\n",
    "            for sample_idx in range(self.num_samples - self.min_leaf_samples - 1):\n",
    "                left_split_cnt += 1  ;  right_split_cnt -= 1  \n",
    "                left_split_sum += current_y_sorted[sample_idx] ; left_split_sumsquares += current_y_sorted[sample_idx]**2           \n",
    "                right_split_sum -= current_y_sorted[sample_idx] ; right_split_sumsquares -= current_y_sorted[sample_idx]**2\n",
    "                # Count y for all equal values of x, \n",
    "                # Also dont go below min_leaf_samples on left split, right split taken care of for loop condition\n",
    "                if (current_x_sorted[sample_idx] == current_x_sorted[sample_idx + 1]) or (sample_idx < self.min_leaf_samples):\n",
    "                    continue\n",
    "                # Stddev till sample_idx idx of x\n",
    "                left_split_stddev =  stddev(left_split_sum, left_split_sumsquares, left_split_cnt)\n",
    "                right_split_stddev = stddev(right_split_sum, right_split_sumsquares, right_split_cnt)\n",
    "                score = left_split_cnt*left_split_stddev + right_split_cnt*right_split_stddev\n",
    "                if score < self.best_score:\n",
    "                    self.best_score = score ; self.best_feature_idx = feature_idx \n",
    "                    self.split_feature_name = self.x.columns[feature_idx]\n",
    "                    self.split_feature_value = current_x_sorted[sample_idx]        \n",
    "                    self.leaf_node = False\n",
    "                    \n",
    "    # Is it a leaf node?\n",
    "    def is_leaf_node(self): \n",
    "        return ((self.leaf_node == True \n",
    "                 or (self.num_samples < self.min_leaf_samples)\n",
    "                 or (self.max_depth is not None and self.depth == self.max_depth)))\n",
    "   \n",
    "    # Print for python object\n",
    "    def __repr__(self):\n",
    "        msg = f'depth:{self.depth}; num_samples: {self.num_samples}; pred_value:{self.pred_value}'\n",
    "        if not self.is_leaf_node():\n",
    "            msg += f'; split_feature:{self.split_feature_name} ; split_value:{self.split_feature_value}'\n",
    "        msg += f'; score:{self.score}; '\n",
    "        return msg   \n",
    "  \n",
    "    # Prediction for all x inputs\n",
    "    def predict(self, samples_x):\n",
    "        ypreds = np.array([self.predict_sample(sample_x) for sample_x in samples_x])\n",
    "        return ypreds\n",
    "    \n",
    "    # Prediction per x input\n",
    "    def predict_sample(self, sample_x):\n",
    "        # base case\n",
    "        if self.is_leaf_node(): return self.pred_value\n",
    "        # recurse till leaf\n",
    "        feature_val = sample_x[self.best_feature_idx]\n",
    "        split_val = self.split_feature_value        \n",
    "        if feature_val <= split_val:\n",
    "            y_pred = self.left_child_tree.predict_sample(sample_x)\n",
    "        else:\n",
    "            y_pred = self.right_child_tree.predict_sample(sample_x)\n",
    "        return y_pred       \n",
    "\n",
    "    # Print tree\n",
    "    def print_tree(self):\n",
    "        tab = \"\"\n",
    "        for _ in range(self.depth): tab += \"\\t\"\n",
    "        print(tab + str(self))\n",
    "        if self.is_leaf_node(): return\n",
    "        self.left_child_tree.print_tree() \n",
    "        self.right_child_tree.print_tree()\n",
    "    "
   ]
  },
  {
   "cell_type": "code",
   "execution_count": 9,
   "metadata": {
    "collapsed": true
   },
   "outputs": [],
   "source": [
    "# is_numeric? function\n",
    "def is_numeric(value):\n",
    "    \"\"\"Test if a value is numeric.\"\"\"\n",
    "    return isinstance(value, int) or isinstance(value, float) or isinstance(value, np.int64) or isinstance(value, np.int32)\n",
    "   \n",
    "# Score function: gini impurity 0 if all y are same. \n",
    "def gini_impurity(y):\n",
    "    #labelfreq = itemfreq(labels)\n",
    "    labelfreq = dict(pd.Series(y).value_counts())\n",
    "    num_labels = len(y)\n",
    "    impurity = 1\n",
    "    for label,freq in labelfreq.items():\n",
    "        prob = freq/num_labels\n",
    "        impurity -= prob**2\n",
    "    return impurity    \n",
    "\n",
    "# Def info gain:\n",
    "def gini_info_gain(current_value, left, right):\n",
    "    prob_left = len(left)/(len(left) + len(right))\n",
    "    prob_right = 1 - prob_left\n",
    "    info_gain = current_value - prob_left*gini_impurity(left) - prob_right*gini_impurity(right)\n",
    "    return info_gain\n",
    "\n",
    "# majority vote:\n",
    "def majority_vote(y):\n",
    "    #print(\"y is\", y)\n",
    "    feature_freq = pd.Series(y).value_counts()\n",
    "    for max_frequency in feature_freq:  break\n",
    "    feature_freq_dict = dict(feature_freq)\n",
    "    t = [k for k in feature_freq_dict if feature_freq_dict[k] == max_frequency]\n",
    "    return t[0]\n",
    "\n",
    "# Score function: stddev 0 if all y are same. \n",
    "def stddev(sum_samples, sum_squares_samples, num_samples):\n",
    "    variance = (sum_squares_samples/num_samples) - (sum_samples/num_samples)**2\n",
    "    #print(\"num_samples, sum_squares_samples, sum_samples, variance\", num_samples, sum_squares_samples, sum_samples, variance)\n",
    "    if variance < 0: variance = 0\n",
    "    std_dev = math.sqrt(variance)\n",
    "    return std_dev"
   ]
  },
  {
   "cell_type": "markdown",
   "metadata": {},
   "source": [
    "### Compare model with 1 tree with sklearn model"
   ]
  },
  {
   "cell_type": "code",
   "execution_count": 10,
   "metadata": {},
   "outputs": [
    {
     "name": "stdout",
     "output_type": "stream",
     "text": [
      "depth:0; num_samples: 8; pred_value:1; split_feature:diameter ; split_value:10; score:0.71875; \n",
      "\tdepth:1; num_samples: 3; pred_value:1; score:0.0; \n",
      "\tdepth:1; num_samples: 5; pred_value:3; split_feature:diameter ; split_value:30; score:0.6399999999999999; \n",
      "\t\tdepth:2; num_samples: 3; pred_value:0; split_feature:diameter ; split_value:20; score:0.4444444444444445; \n",
      "\t\t\tdepth:3; num_samples: 1; pred_value:2; score:0.0; \n",
      "\t\t\tdepth:3; num_samples: 2; pred_value:0; score:0.0; \n",
      "\t\tdepth:2; num_samples: 2; pred_value:3; score:0.0; \n"
     ]
    }
   ],
   "source": [
    "# This random forest\n",
    "my_rf = Random_forest(x_train, y_train, num_trees=1, min_leaf_samples=1, max_depth = 3)\n",
    "my_rf.trees[0], my_rf.trees[0].left_child_tree, my_rf.trees[0].right_child_tree\n",
    "my_rf.trees[0].print_tree()"
   ]
  },
  {
   "cell_type": "code",
   "execution_count": 11,
   "metadata": {},
   "outputs": [
    {
     "data": {
      "image/svg+xml": [
       "<?xml version=\"1.0\" encoding=\"UTF-8\" standalone=\"no\"?>\n",
       "<!DOCTYPE svg PUBLIC \"-//W3C//DTD SVG 1.1//EN\"\n",
       " \"http://www.w3.org/Graphics/SVG/1.1/DTD/svg11.dtd\">\n",
       "<!-- Generated by graphviz version 2.40.1 (20161225.0304)\n",
       " -->\n",
       "<!-- Title: Tree Pages: 1 -->\n",
       "<svg width=\"596pt\" height=\"361pt\"\n",
       " viewBox=\"0.00 0.00 596.00 360.80\" xmlns=\"http://www.w3.org/2000/svg\" xmlns:xlink=\"http://www.w3.org/1999/xlink\">\n",
       "<g id=\"graph0\" class=\"graph\" transform=\"scale(1 1) rotate(0) translate(4 356.8)\">\n",
       "<title>Tree</title>\n",
       "<polygon fill=\"#ffffff\" stroke=\"transparent\" points=\"-4,4 -4,-356.8 592,-356.8 592,4 -4,4\"/>\n",
       "<!-- 0 -->\n",
       "<g id=\"node1\" class=\"node\">\n",
       "<title>0</title>\n",
       "<polygon fill=\"#47e539\" fill-opacity=\"0.164706\" stroke=\"#000000\" points=\"120,-249.8105 0,-249.8105 0,-181.8105 120,-181.8105 120,-249.8105\"/>\n",
       "<text text-anchor=\"start\" x=\"16\" y=\"-234.6105\" font-family=\"Times,serif\" font-size=\"14.00\" fill=\"#000000\">diameter ≤ 15.0</text>\n",
       "<text text-anchor=\"start\" x=\"29.5\" y=\"-219.6105\" font-family=\"Times,serif\" font-size=\"14.00\" fill=\"#000000\">gini = 0.72</text>\n",
       "<text text-anchor=\"start\" x=\"26.5\" y=\"-204.6105\" font-family=\"Times,serif\" font-size=\"14.00\" fill=\"#000000\">samples = 8</text>\n",
       "<text text-anchor=\"start\" x=\"8\" y=\"-189.6105\" font-family=\"Times,serif\" font-size=\"14.00\" fill=\"#000000\">value = [2, 3, 1, 2]</text>\n",
       "</g>\n",
       "<!-- 1 -->\n",
       "<g id=\"node2\" class=\"node\">\n",
       "<title>1</title>\n",
       "<polygon fill=\"#47e539\" stroke=\"#000000\" points=\"276,-324.3105 156,-324.3105 156,-271.3105 276,-271.3105 276,-324.3105\"/>\n",
       "<text text-anchor=\"start\" x=\"188.5\" y=\"-309.1105\" font-family=\"Times,serif\" font-size=\"14.00\" fill=\"#000000\">gini = 0.0</text>\n",
       "<text text-anchor=\"start\" x=\"182.5\" y=\"-294.1105\" font-family=\"Times,serif\" font-size=\"14.00\" fill=\"#000000\">samples = 3</text>\n",
       "<text text-anchor=\"start\" x=\"164\" y=\"-279.1105\" font-family=\"Times,serif\" font-size=\"14.00\" fill=\"#000000\">value = [0, 3, 0, 0]</text>\n",
       "</g>\n",
       "<!-- 0&#45;&gt;1 -->\n",
       "<g id=\"edge1\" class=\"edge\">\n",
       "<title>0&#45;&gt;1</title>\n",
       "<path fill=\"none\" stroke=\"#000000\" d=\"M120.3137,-247.5139C132.2019,-253.7628 144.6688,-260.3159 156.529,-266.5501\"/>\n",
       "<polygon fill=\"#000000\" stroke=\"#000000\" points=\"154.9805,-269.6902 165.4607,-271.245 158.2375,-263.4941 154.9805,-269.6902\"/>\n",
       "<text text-anchor=\"middle\" x=\"141.588\" y=\"-274.9676\" font-family=\"Times,serif\" font-size=\"14.00\" fill=\"#000000\">True</text>\n",
       "</g>\n",
       "<!-- 2 -->\n",
       "<g id=\"node3\" class=\"node\">\n",
       "<title>2</title>\n",
       "<polygon fill=\"transparent\" stroke=\"#000000\" points=\"276,-168.8105 156,-168.8105 156,-100.8105 276,-100.8105 276,-168.8105\"/>\n",
       "<text text-anchor=\"start\" x=\"172\" y=\"-153.6105\" font-family=\"Times,serif\" font-size=\"14.00\" fill=\"#000000\">diameter ≤ 35.0</text>\n",
       "<text text-anchor=\"start\" x=\"185.5\" y=\"-138.6105\" font-family=\"Times,serif\" font-size=\"14.00\" fill=\"#000000\">gini = 0.64</text>\n",
       "<text text-anchor=\"start\" x=\"182.5\" y=\"-123.6105\" font-family=\"Times,serif\" font-size=\"14.00\" fill=\"#000000\">samples = 5</text>\n",
       "<text text-anchor=\"start\" x=\"164\" y=\"-108.6105\" font-family=\"Times,serif\" font-size=\"14.00\" fill=\"#000000\">value = [2, 0, 1, 2]</text>\n",
       "</g>\n",
       "<!-- 0&#45;&gt;2 -->\n",
       "<g id=\"edge2\" class=\"edge\">\n",
       "<title>0&#45;&gt;2</title>\n",
       "<path fill=\"none\" stroke=\"#000000\" d=\"M120.3137,-184.4938C128.968,-180.0002 137.9289,-175.3475 146.7392,-170.7729\"/>\n",
       "<polygon fill=\"#000000\" stroke=\"#000000\" points=\"148.5846,-173.7584 155.8467,-166.044 145.3589,-167.5459 148.5846,-173.7584\"/>\n",
       "<text text-anchor=\"middle\" x=\"132.0117\" y=\"-154.8012\" font-family=\"Times,serif\" font-size=\"14.00\" fill=\"#000000\">False</text>\n",
       "</g>\n",
       "<!-- 3 -->\n",
       "<g id=\"node4\" class=\"node\">\n",
       "<title>3</title>\n",
       "<polygon fill=\"#e58139\" fill-opacity=\"0.498039\" stroke=\"#000000\" points=\"432,-251.8105 312,-251.8105 312,-183.8105 432,-183.8105 432,-251.8105\"/>\n",
       "<text text-anchor=\"start\" x=\"328\" y=\"-236.6105\" font-family=\"Times,serif\" font-size=\"14.00\" fill=\"#000000\">diameter ≤ 25.0</text>\n",
       "<text text-anchor=\"start\" x=\"341.5\" y=\"-221.6105\" font-family=\"Times,serif\" font-size=\"14.00\" fill=\"#000000\">gini = 0.44</text>\n",
       "<text text-anchor=\"start\" x=\"338.5\" y=\"-206.6105\" font-family=\"Times,serif\" font-size=\"14.00\" fill=\"#000000\">samples = 3</text>\n",
       "<text text-anchor=\"start\" x=\"320\" y=\"-191.6105\" font-family=\"Times,serif\" font-size=\"14.00\" fill=\"#000000\">value = [2, 0, 1, 0]</text>\n",
       "</g>\n",
       "<!-- 2&#45;&gt;3 -->\n",
       "<g id=\"edge3\" class=\"edge\">\n",
       "<title>2&#45;&gt;3</title>\n",
       "<path fill=\"none\" stroke=\"#000000\" d=\"M276.3137,-166.9005C285.0591,-171.5535 294.1176,-176.3731 303.0173,-181.1082\"/>\n",
       "<polygon fill=\"#000000\" stroke=\"#000000\" points=\"301.3745,-184.1987 311.8467,-185.8059 304.6625,-178.0189 301.3745,-184.1987\"/>\n",
       "</g>\n",
       "<!-- 6 -->\n",
       "<g id=\"node7\" class=\"node\">\n",
       "<title>6</title>\n",
       "<polygon fill=\"#d739e5\" stroke=\"#000000\" points=\"432,-81.3105 312,-81.3105 312,-28.3105 432,-28.3105 432,-81.3105\"/>\n",
       "<text text-anchor=\"start\" x=\"344.5\" y=\"-66.1105\" font-family=\"Times,serif\" font-size=\"14.00\" fill=\"#000000\">gini = 0.0</text>\n",
       "<text text-anchor=\"start\" x=\"338.5\" y=\"-51.1105\" font-family=\"Times,serif\" font-size=\"14.00\" fill=\"#000000\">samples = 2</text>\n",
       "<text text-anchor=\"start\" x=\"320\" y=\"-36.1105\" font-family=\"Times,serif\" font-size=\"14.00\" fill=\"#000000\">value = [0, 0, 0, 2]</text>\n",
       "</g>\n",
       "<!-- 2&#45;&gt;6 -->\n",
       "<g id=\"edge6\" class=\"edge\">\n",
       "<title>2&#45;&gt;6</title>\n",
       "<path fill=\"none\" stroke=\"#000000\" d=\"M276.3137,-103.8804C287.6795,-98.0518 299.5741,-91.952 310.9619,-86.1121\"/>\n",
       "<polygon fill=\"#000000\" stroke=\"#000000\" points=\"312.6651,-89.1721 319.9662,-81.4945 309.4709,-82.9434 312.6651,-89.1721\"/>\n",
       "</g>\n",
       "<!-- 4 -->\n",
       "<g id=\"node5\" class=\"node\">\n",
       "<title>4</title>\n",
       "<polygon fill=\"#399de5\" stroke=\"#000000\" points=\"588,-316.3105 468,-316.3105 468,-263.3105 588,-263.3105 588,-316.3105\"/>\n",
       "<text text-anchor=\"start\" x=\"500.5\" y=\"-301.1105\" font-family=\"Times,serif\" font-size=\"14.00\" fill=\"#000000\">gini = 0.0</text>\n",
       "<text text-anchor=\"start\" x=\"494.5\" y=\"-286.1105\" font-family=\"Times,serif\" font-size=\"14.00\" fill=\"#000000\">samples = 1</text>\n",
       "<text text-anchor=\"start\" x=\"476\" y=\"-271.1105\" font-family=\"Times,serif\" font-size=\"14.00\" fill=\"#000000\">value = [0, 0, 1, 0]</text>\n",
       "</g>\n",
       "<!-- 3&#45;&gt;4 -->\n",
       "<g id=\"edge4\" class=\"edge\">\n",
       "<title>3&#45;&gt;4</title>\n",
       "<path fill=\"none\" stroke=\"#000000\" d=\"M432.3137,-245.6476C441.7999,-250.0259 451.6545,-254.5742 461.2754,-259.0145\"/>\n",
       "<polygon fill=\"#000000\" stroke=\"#000000\" points=\"459.8619,-262.2169 470.4082,-263.2297 462.7953,-255.8612 459.8619,-262.2169\"/>\n",
       "</g>\n",
       "<!-- 5 -->\n",
       "<g id=\"node6\" class=\"node\">\n",
       "<title>5</title>\n",
       "<polygon fill=\"#e58139\" stroke=\"#000000\" points=\"588,-170.3105 468,-170.3105 468,-117.3105 588,-117.3105 588,-170.3105\"/>\n",
       "<text text-anchor=\"start\" x=\"500.5\" y=\"-155.1105\" font-family=\"Times,serif\" font-size=\"14.00\" fill=\"#000000\">gini = 0.0</text>\n",
       "<text text-anchor=\"start\" x=\"494.5\" y=\"-140.1105\" font-family=\"Times,serif\" font-size=\"14.00\" fill=\"#000000\">samples = 2</text>\n",
       "<text text-anchor=\"start\" x=\"476\" y=\"-125.1105\" font-family=\"Times,serif\" font-size=\"14.00\" fill=\"#000000\">value = [2, 0, 0, 0]</text>\n",
       "</g>\n",
       "<!-- 3&#45;&gt;5 -->\n",
       "<g id=\"edge5\" class=\"edge\">\n",
       "<title>3&#45;&gt;5</title>\n",
       "<path fill=\"none\" stroke=\"#000000\" d=\"M432.3137,-189.2002C442.2916,-184.4671 452.677,-179.5407 462.7693,-174.7533\"/>\n",
       "<polygon fill=\"#000000\" stroke=\"#000000\" points=\"464.4003,-177.8535 471.9352,-170.4053 461.4001,-171.529 464.4003,-177.8535\"/>\n",
       "</g>\n",
       "</g>\n",
       "</svg>\n"
      ],
      "text/plain": [
       "<graphviz.files.Source at 0x7fc1af13d5c0>"
      ]
     },
     "metadata": {},
     "output_type": "display_data"
    }
   ],
   "source": [
    "# Sklearn random forest for comparison\n",
    "sklearn_rf = RandomForestClassifier(n_estimators=1, max_depth=3, max_features=None, min_samples_leaf= 1, bootstrap=False)\n",
    "sklearn_rf.fit(x_train, y_train)\n",
    "draw_tree(sklearn_rf.estimators_[0], x_train, precision=2)"
   ]
  },
  {
   "cell_type": "markdown",
   "metadata": {},
   "source": [
    "#### Prediction for 1 sample"
   ]
  },
  {
   "cell_type": "code",
   "execution_count": 12,
   "metadata": {},
   "outputs": [
    {
     "data": {
      "text/plain": [
       "array([2])"
      ]
     },
     "execution_count": 12,
     "metadata": {},
     "output_type": "execute_result"
    }
   ],
   "source": [
    "# Make example prediction with this model:\n",
    "cols = ['color', 'diameter']\n",
    "preds = my_rf.trees[0].predict(x_val_sample[cols].values)\n",
    "preds"
   ]
  },
  {
   "cell_type": "code",
   "execution_count": 13,
   "metadata": {},
   "outputs": [
    {
     "data": {
      "text/plain": [
       "array([2])"
      ]
     },
     "execution_count": 13,
     "metadata": {},
     "output_type": "execute_result"
    }
   ],
   "source": [
    "# Make example prediction with sklearn model:\n",
    "sklearn_rf.predict(x_val_sample)"
   ]
  },
  {
   "cell_type": "markdown",
   "metadata": {},
   "source": [
    "### Compare model with >1 trees with sklearn model\n",
    " They are expected to be different since randomness is different for 2 approaches.\n",
    " - sklearn model uses all samples with bootstrapping\n",
    " - The model built here uses subsampling to create randomness. (Easy to add bootstrapping if needed)"
   ]
  },
  {
   "cell_type": "code",
   "execution_count": 14,
   "metadata": {},
   "outputs": [
    {
     "name": "stdout",
     "output_type": "stream",
     "text": [
      "depth:0; num_samples: 8; pred_value:1; split_feature:diameter ; split_value:10; score:0.71875; \n",
      "\tdepth:1; num_samples: 3; pred_value:1; score:0.0; \n",
      "\tdepth:1; num_samples: 5; pred_value:3; split_feature:diameter ; split_value:30; score:0.6399999999999999; \n",
      "\t\tdepth:2; num_samples: 3; pred_value:0; split_feature:diameter ; split_value:20; score:0.4444444444444445; \n",
      "\t\t\tdepth:3; num_samples: 1; pred_value:2; score:0.0; \n",
      "\t\t\tdepth:3; num_samples: 2; pred_value:0; score:0.0; \n",
      "\t\tdepth:2; num_samples: 2; pred_value:3; score:0.0; \n",
      "depth:0; num_samples: 8; pred_value:1; split_feature:diameter ; split_value:10; score:0.71875; \n",
      "\tdepth:1; num_samples: 3; pred_value:1; score:0.0; \n",
      "\tdepth:1; num_samples: 5; pred_value:3; split_feature:diameter ; split_value:30; score:0.6399999999999999; \n",
      "\t\tdepth:2; num_samples: 3; pred_value:0; split_feature:diameter ; split_value:20; score:0.4444444444444445; \n",
      "\t\t\tdepth:3; num_samples: 1; pred_value:2; score:0.0; \n",
      "\t\t\tdepth:3; num_samples: 2; pred_value:0; score:0.0; \n",
      "\t\tdepth:2; num_samples: 2; pred_value:3; score:0.0; \n"
     ]
    }
   ],
   "source": [
    "# This random forest\n",
    "my_rf = Random_forest(x_train, y_train, num_trees=2, sample_size = 8, min_leaf_samples=1, max_depth = 3)\n",
    "my_rf.trees[0].print_tree()\n",
    "my_rf.trees[1].print_tree()"
   ]
  },
  {
   "cell_type": "code",
   "execution_count": 15,
   "metadata": {},
   "outputs": [
    {
     "data": {
      "image/svg+xml": [
       "<?xml version=\"1.0\" encoding=\"UTF-8\" standalone=\"no\"?>\n",
       "<!DOCTYPE svg PUBLIC \"-//W3C//DTD SVG 1.1//EN\"\n",
       " \"http://www.w3.org/Graphics/SVG/1.1/DTD/svg11.dtd\">\n",
       "<!-- Generated by graphviz version 2.40.1 (20161225.0304)\n",
       " -->\n",
       "<!-- Title: Tree Pages: 1 -->\n",
       "<svg width=\"596pt\" height=\"361pt\"\n",
       " viewBox=\"0.00 0.00 596.00 360.80\" xmlns=\"http://www.w3.org/2000/svg\" xmlns:xlink=\"http://www.w3.org/1999/xlink\">\n",
       "<g id=\"graph0\" class=\"graph\" transform=\"scale(1 1) rotate(0) translate(4 356.8)\">\n",
       "<title>Tree</title>\n",
       "<polygon fill=\"#ffffff\" stroke=\"transparent\" points=\"-4,4 -4,-356.8 592,-356.8 592,4 -4,4\"/>\n",
       "<!-- 0 -->\n",
       "<g id=\"node1\" class=\"node\">\n",
       "<title>0</title>\n",
       "<polygon fill=\"#47e539\" fill-opacity=\"0.164706\" stroke=\"#000000\" points=\"120,-249.8105 0,-249.8105 0,-181.8105 120,-181.8105 120,-249.8105\"/>\n",
       "<text text-anchor=\"start\" x=\"16\" y=\"-234.6105\" font-family=\"Times,serif\" font-size=\"14.00\" fill=\"#000000\">diameter ≤ 15.0</text>\n",
       "<text text-anchor=\"start\" x=\"29.5\" y=\"-219.6105\" font-family=\"Times,serif\" font-size=\"14.00\" fill=\"#000000\">gini = 0.72</text>\n",
       "<text text-anchor=\"start\" x=\"26.5\" y=\"-204.6105\" font-family=\"Times,serif\" font-size=\"14.00\" fill=\"#000000\">samples = 5</text>\n",
       "<text text-anchor=\"start\" x=\"8\" y=\"-189.6105\" font-family=\"Times,serif\" font-size=\"14.00\" fill=\"#000000\">value = [2, 3, 1, 2]</text>\n",
       "</g>\n",
       "<!-- 1 -->\n",
       "<g id=\"node2\" class=\"node\">\n",
       "<title>1</title>\n",
       "<polygon fill=\"#47e539\" stroke=\"#000000\" points=\"276,-324.3105 156,-324.3105 156,-271.3105 276,-271.3105 276,-324.3105\"/>\n",
       "<text text-anchor=\"start\" x=\"188.5\" y=\"-309.1105\" font-family=\"Times,serif\" font-size=\"14.00\" fill=\"#000000\">gini = 0.0</text>\n",
       "<text text-anchor=\"start\" x=\"182.5\" y=\"-294.1105\" font-family=\"Times,serif\" font-size=\"14.00\" fill=\"#000000\">samples = 2</text>\n",
       "<text text-anchor=\"start\" x=\"164\" y=\"-279.1105\" font-family=\"Times,serif\" font-size=\"14.00\" fill=\"#000000\">value = [0, 3, 0, 0]</text>\n",
       "</g>\n",
       "<!-- 0&#45;&gt;1 -->\n",
       "<g id=\"edge1\" class=\"edge\">\n",
       "<title>0&#45;&gt;1</title>\n",
       "<path fill=\"none\" stroke=\"#000000\" d=\"M120.3137,-247.5139C132.2019,-253.7628 144.6688,-260.3159 156.529,-266.5501\"/>\n",
       "<polygon fill=\"#000000\" stroke=\"#000000\" points=\"154.9805,-269.6902 165.4607,-271.245 158.2375,-263.4941 154.9805,-269.6902\"/>\n",
       "<text text-anchor=\"middle\" x=\"141.588\" y=\"-274.9676\" font-family=\"Times,serif\" font-size=\"14.00\" fill=\"#000000\">True</text>\n",
       "</g>\n",
       "<!-- 2 -->\n",
       "<g id=\"node3\" class=\"node\">\n",
       "<title>2</title>\n",
       "<polygon fill=\"transparent\" stroke=\"#000000\" points=\"276,-168.8105 156,-168.8105 156,-100.8105 276,-100.8105 276,-168.8105\"/>\n",
       "<text text-anchor=\"start\" x=\"172\" y=\"-153.6105\" font-family=\"Times,serif\" font-size=\"14.00\" fill=\"#000000\">diameter ≤ 35.0</text>\n",
       "<text text-anchor=\"start\" x=\"185.5\" y=\"-138.6105\" font-family=\"Times,serif\" font-size=\"14.00\" fill=\"#000000\">gini = 0.64</text>\n",
       "<text text-anchor=\"start\" x=\"182.5\" y=\"-123.6105\" font-family=\"Times,serif\" font-size=\"14.00\" fill=\"#000000\">samples = 3</text>\n",
       "<text text-anchor=\"start\" x=\"164\" y=\"-108.6105\" font-family=\"Times,serif\" font-size=\"14.00\" fill=\"#000000\">value = [2, 0, 1, 2]</text>\n",
       "</g>\n",
       "<!-- 0&#45;&gt;2 -->\n",
       "<g id=\"edge2\" class=\"edge\">\n",
       "<title>0&#45;&gt;2</title>\n",
       "<path fill=\"none\" stroke=\"#000000\" d=\"M120.3137,-184.4938C128.968,-180.0002 137.9289,-175.3475 146.7392,-170.7729\"/>\n",
       "<polygon fill=\"#000000\" stroke=\"#000000\" points=\"148.5846,-173.7584 155.8467,-166.044 145.3589,-167.5459 148.5846,-173.7584\"/>\n",
       "<text text-anchor=\"middle\" x=\"132.0117\" y=\"-154.8012\" font-family=\"Times,serif\" font-size=\"14.00\" fill=\"#000000\">False</text>\n",
       "</g>\n",
       "<!-- 3 -->\n",
       "<g id=\"node4\" class=\"node\">\n",
       "<title>3</title>\n",
       "<polygon fill=\"#e58139\" fill-opacity=\"0.498039\" stroke=\"#000000\" points=\"432,-251.8105 312,-251.8105 312,-183.8105 432,-183.8105 432,-251.8105\"/>\n",
       "<text text-anchor=\"start\" x=\"328\" y=\"-236.6105\" font-family=\"Times,serif\" font-size=\"14.00\" fill=\"#000000\">diameter ≤ 25.0</text>\n",
       "<text text-anchor=\"start\" x=\"341.5\" y=\"-221.6105\" font-family=\"Times,serif\" font-size=\"14.00\" fill=\"#000000\">gini = 0.44</text>\n",
       "<text text-anchor=\"start\" x=\"338.5\" y=\"-206.6105\" font-family=\"Times,serif\" font-size=\"14.00\" fill=\"#000000\">samples = 2</text>\n",
       "<text text-anchor=\"start\" x=\"320\" y=\"-191.6105\" font-family=\"Times,serif\" font-size=\"14.00\" fill=\"#000000\">value = [2, 0, 1, 0]</text>\n",
       "</g>\n",
       "<!-- 2&#45;&gt;3 -->\n",
       "<g id=\"edge3\" class=\"edge\">\n",
       "<title>2&#45;&gt;3</title>\n",
       "<path fill=\"none\" stroke=\"#000000\" d=\"M276.3137,-166.9005C285.0591,-171.5535 294.1176,-176.3731 303.0173,-181.1082\"/>\n",
       "<polygon fill=\"#000000\" stroke=\"#000000\" points=\"301.3745,-184.1987 311.8467,-185.8059 304.6625,-178.0189 301.3745,-184.1987\"/>\n",
       "</g>\n",
       "<!-- 6 -->\n",
       "<g id=\"node7\" class=\"node\">\n",
       "<title>6</title>\n",
       "<polygon fill=\"#d739e5\" stroke=\"#000000\" points=\"432,-81.3105 312,-81.3105 312,-28.3105 432,-28.3105 432,-81.3105\"/>\n",
       "<text text-anchor=\"start\" x=\"344.5\" y=\"-66.1105\" font-family=\"Times,serif\" font-size=\"14.00\" fill=\"#000000\">gini = 0.0</text>\n",
       "<text text-anchor=\"start\" x=\"338.5\" y=\"-51.1105\" font-family=\"Times,serif\" font-size=\"14.00\" fill=\"#000000\">samples = 1</text>\n",
       "<text text-anchor=\"start\" x=\"320\" y=\"-36.1105\" font-family=\"Times,serif\" font-size=\"14.00\" fill=\"#000000\">value = [0, 0, 0, 2]</text>\n",
       "</g>\n",
       "<!-- 2&#45;&gt;6 -->\n",
       "<g id=\"edge6\" class=\"edge\">\n",
       "<title>2&#45;&gt;6</title>\n",
       "<path fill=\"none\" stroke=\"#000000\" d=\"M276.3137,-103.8804C287.6795,-98.0518 299.5741,-91.952 310.9619,-86.1121\"/>\n",
       "<polygon fill=\"#000000\" stroke=\"#000000\" points=\"312.6651,-89.1721 319.9662,-81.4945 309.4709,-82.9434 312.6651,-89.1721\"/>\n",
       "</g>\n",
       "<!-- 4 -->\n",
       "<g id=\"node5\" class=\"node\">\n",
       "<title>4</title>\n",
       "<polygon fill=\"#399de5\" stroke=\"#000000\" points=\"588,-316.3105 468,-316.3105 468,-263.3105 588,-263.3105 588,-316.3105\"/>\n",
       "<text text-anchor=\"start\" x=\"500.5\" y=\"-301.1105\" font-family=\"Times,serif\" font-size=\"14.00\" fill=\"#000000\">gini = 0.0</text>\n",
       "<text text-anchor=\"start\" x=\"494.5\" y=\"-286.1105\" font-family=\"Times,serif\" font-size=\"14.00\" fill=\"#000000\">samples = 1</text>\n",
       "<text text-anchor=\"start\" x=\"476\" y=\"-271.1105\" font-family=\"Times,serif\" font-size=\"14.00\" fill=\"#000000\">value = [0, 0, 1, 0]</text>\n",
       "</g>\n",
       "<!-- 3&#45;&gt;4 -->\n",
       "<g id=\"edge4\" class=\"edge\">\n",
       "<title>3&#45;&gt;4</title>\n",
       "<path fill=\"none\" stroke=\"#000000\" d=\"M432.3137,-245.6476C441.7999,-250.0259 451.6545,-254.5742 461.2754,-259.0145\"/>\n",
       "<polygon fill=\"#000000\" stroke=\"#000000\" points=\"459.8619,-262.2169 470.4082,-263.2297 462.7953,-255.8612 459.8619,-262.2169\"/>\n",
       "</g>\n",
       "<!-- 5 -->\n",
       "<g id=\"node6\" class=\"node\">\n",
       "<title>5</title>\n",
       "<polygon fill=\"#e58139\" stroke=\"#000000\" points=\"588,-170.3105 468,-170.3105 468,-117.3105 588,-117.3105 588,-170.3105\"/>\n",
       "<text text-anchor=\"start\" x=\"500.5\" y=\"-155.1105\" font-family=\"Times,serif\" font-size=\"14.00\" fill=\"#000000\">gini = 0.0</text>\n",
       "<text text-anchor=\"start\" x=\"494.5\" y=\"-140.1105\" font-family=\"Times,serif\" font-size=\"14.00\" fill=\"#000000\">samples = 1</text>\n",
       "<text text-anchor=\"start\" x=\"476\" y=\"-125.1105\" font-family=\"Times,serif\" font-size=\"14.00\" fill=\"#000000\">value = [2, 0, 0, 0]</text>\n",
       "</g>\n",
       "<!-- 3&#45;&gt;5 -->\n",
       "<g id=\"edge5\" class=\"edge\">\n",
       "<title>3&#45;&gt;5</title>\n",
       "<path fill=\"none\" stroke=\"#000000\" d=\"M432.3137,-189.2002C442.2916,-184.4671 452.677,-179.5407 462.7693,-174.7533\"/>\n",
       "<polygon fill=\"#000000\" stroke=\"#000000\" points=\"464.4003,-177.8535 471.9352,-170.4053 461.4001,-171.529 464.4003,-177.8535\"/>\n",
       "</g>\n",
       "</g>\n",
       "</svg>\n"
      ],
      "text/plain": [
       "<graphviz.files.Source at 0x7fc1f8c382b0>"
      ]
     },
     "metadata": {},
     "output_type": "display_data"
    },
    {
     "data": {
      "image/svg+xml": [
       "<?xml version=\"1.0\" encoding=\"UTF-8\" standalone=\"no\"?>\n",
       "<!DOCTYPE svg PUBLIC \"-//W3C//DTD SVG 1.1//EN\"\n",
       " \"http://www.w3.org/Graphics/SVG/1.1/DTD/svg11.dtd\">\n",
       "<!-- Generated by graphviz version 2.40.1 (20161225.0304)\n",
       " -->\n",
       "<!-- Title: Tree Pages: 1 -->\n",
       "<svg width=\"440pt\" height=\"267pt\"\n",
       " viewBox=\"0.00 0.00 440.00 267.20\" xmlns=\"http://www.w3.org/2000/svg\" xmlns:xlink=\"http://www.w3.org/1999/xlink\">\n",
       "<g id=\"graph0\" class=\"graph\" transform=\"scale(1 1) rotate(0) translate(4 263.2)\">\n",
       "<title>Tree</title>\n",
       "<polygon fill=\"#ffffff\" stroke=\"transparent\" points=\"-4,4 -4,-263.2 436,-263.2 436,4 -4,4\"/>\n",
       "<!-- 0 -->\n",
       "<g id=\"node1\" class=\"node\">\n",
       "<title>0</title>\n",
       "<polygon fill=\"transparent\" stroke=\"#000000\" points=\"120,-189.5784 0,-189.5784 0,-121.5784 120,-121.5784 120,-189.5784\"/>\n",
       "<text text-anchor=\"start\" x=\"16\" y=\"-174.3784\" font-family=\"Times,serif\" font-size=\"14.00\" fill=\"#000000\">diameter ≤ 15.0</text>\n",
       "<text text-anchor=\"start\" x=\"29.5\" y=\"-159.3784\" font-family=\"Times,serif\" font-size=\"14.00\" fill=\"#000000\">gini = 0.66</text>\n",
       "<text text-anchor=\"start\" x=\"26.5\" y=\"-144.3784\" font-family=\"Times,serif\" font-size=\"14.00\" fill=\"#000000\">samples = 5</text>\n",
       "<text text-anchor=\"start\" x=\"8\" y=\"-129.3784\" font-family=\"Times,serif\" font-size=\"14.00\" fill=\"#000000\">value = [0, 3, 2, 3]</text>\n",
       "</g>\n",
       "<!-- 1 -->\n",
       "<g id=\"node2\" class=\"node\">\n",
       "<title>1</title>\n",
       "<polygon fill=\"#47e539\" stroke=\"#000000\" points=\"276,-244.0784 156,-244.0784 156,-191.0784 276,-191.0784 276,-244.0784\"/>\n",
       "<text text-anchor=\"start\" x=\"188.5\" y=\"-228.8784\" font-family=\"Times,serif\" font-size=\"14.00\" fill=\"#000000\">gini = 0.0</text>\n",
       "<text text-anchor=\"start\" x=\"182.5\" y=\"-213.8784\" font-family=\"Times,serif\" font-size=\"14.00\" fill=\"#000000\">samples = 2</text>\n",
       "<text text-anchor=\"start\" x=\"164\" y=\"-198.8784\" font-family=\"Times,serif\" font-size=\"14.00\" fill=\"#000000\">value = [0, 3, 0, 0]</text>\n",
       "</g>\n",
       "<!-- 0&#45;&gt;1 -->\n",
       "<g id=\"edge1\" class=\"edge\">\n",
       "<title>0&#45;&gt;1</title>\n",
       "<path fill=\"none\" stroke=\"#000000\" d=\"M120.3137,-179.5493C128.8769,-182.9526 137.7403,-186.4752 146.4609,-189.9411\"/>\n",
       "<polygon fill=\"#000000\" stroke=\"#000000\" points=\"145.2611,-193.2305 155.8467,-193.6714 147.8465,-186.7254 145.2611,-193.2305\"/>\n",
       "<text text-anchor=\"middle\" x=\"132.8899\" y=\"-199.8702\" font-family=\"Times,serif\" font-size=\"14.00\" fill=\"#000000\">True</text>\n",
       "</g>\n",
       "<!-- 2 -->\n",
       "<g id=\"node3\" class=\"node\">\n",
       "<title>2</title>\n",
       "<polygon fill=\"#d739e5\" fill-opacity=\"0.333333\" stroke=\"#000000\" points=\"276,-129.5784 156,-129.5784 156,-61.5784 276,-61.5784 276,-129.5784\"/>\n",
       "<text text-anchor=\"start\" x=\"172\" y=\"-114.3784\" font-family=\"Times,serif\" font-size=\"14.00\" fill=\"#000000\">diameter ≤ 30.0</text>\n",
       "<text text-anchor=\"start\" x=\"185.5\" y=\"-99.3784\" font-family=\"Times,serif\" font-size=\"14.00\" fill=\"#000000\">gini = 0.48</text>\n",
       "<text text-anchor=\"start\" x=\"182.5\" y=\"-84.3784\" font-family=\"Times,serif\" font-size=\"14.00\" fill=\"#000000\">samples = 3</text>\n",
       "<text text-anchor=\"start\" x=\"164\" y=\"-69.3784\" font-family=\"Times,serif\" font-size=\"14.00\" fill=\"#000000\">value = [0, 0, 2, 3]</text>\n",
       "</g>\n",
       "<!-- 0&#45;&gt;2 -->\n",
       "<g id=\"edge2\" class=\"edge\">\n",
       "<title>0&#45;&gt;2</title>\n",
       "<path fill=\"none\" stroke=\"#000000\" d=\"M120.3137,-132.3809C128.8769,-129.0873 137.7403,-125.6783 146.4609,-122.3243\"/>\n",
       "<polygon fill=\"#000000\" stroke=\"#000000\" points=\"147.7697,-125.5709 155.8467,-118.7143 145.2568,-119.0375 147.7697,-125.5709\"/>\n",
       "<text text-anchor=\"middle\" x=\"133.0014\" y=\"-104.8609\" font-family=\"Times,serif\" font-size=\"14.00\" fill=\"#000000\">False</text>\n",
       "</g>\n",
       "<!-- 3 -->\n",
       "<g id=\"node4\" class=\"node\">\n",
       "<title>3</title>\n",
       "<polygon fill=\"#399de5\" stroke=\"#000000\" points=\"432,-178.0784 312,-178.0784 312,-125.0784 432,-125.0784 432,-178.0784\"/>\n",
       "<text text-anchor=\"start\" x=\"344.5\" y=\"-162.8784\" font-family=\"Times,serif\" font-size=\"14.00\" fill=\"#000000\">gini = 0.0</text>\n",
       "<text text-anchor=\"start\" x=\"338.5\" y=\"-147.8784\" font-family=\"Times,serif\" font-size=\"14.00\" fill=\"#000000\">samples = 1</text>\n",
       "<text text-anchor=\"start\" x=\"320\" y=\"-132.8784\" font-family=\"Times,serif\" font-size=\"14.00\" fill=\"#000000\">value = [0, 0, 2, 0]</text>\n",
       "</g>\n",
       "<!-- 2&#45;&gt;3 -->\n",
       "<g id=\"edge3\" class=\"edge\">\n",
       "<title>2&#45;&gt;3</title>\n",
       "<path fill=\"none\" stroke=\"#000000\" d=\"M276.3137,-117.2295C284.7858,-120.2708 293.5517,-123.4175 302.1825,-126.5158\"/>\n",
       "<polygon fill=\"#000000\" stroke=\"#000000\" points=\"301.2522,-129.9004 311.8467,-129.985 303.6173,-123.3121 301.2522,-129.9004\"/>\n",
       "</g>\n",
       "<!-- 4 -->\n",
       "<g id=\"node5\" class=\"node\">\n",
       "<title>4</title>\n",
       "<polygon fill=\"#d739e5\" stroke=\"#000000\" points=\"432,-68.0784 312,-68.0784 312,-15.0784 432,-15.0784 432,-68.0784\"/>\n",
       "<text text-anchor=\"start\" x=\"344.5\" y=\"-52.8784\" font-family=\"Times,serif\" font-size=\"14.00\" fill=\"#000000\">gini = 0.0</text>\n",
       "<text text-anchor=\"start\" x=\"338.5\" y=\"-37.8784\" font-family=\"Times,serif\" font-size=\"14.00\" fill=\"#000000\">samples = 2</text>\n",
       "<text text-anchor=\"start\" x=\"320\" y=\"-22.8784\" font-family=\"Times,serif\" font-size=\"14.00\" fill=\"#000000\">value = [0, 0, 0, 3]</text>\n",
       "</g>\n",
       "<!-- 2&#45;&gt;4 -->\n",
       "<g id=\"edge4\" class=\"edge\">\n",
       "<title>2&#45;&gt;4</title>\n",
       "<path fill=\"none\" stroke=\"#000000\" d=\"M276.3137,-74.7006C284.7858,-71.768 293.5517,-68.7336 302.1825,-65.746\"/>\n",
       "<polygon fill=\"#000000\" stroke=\"#000000\" points=\"303.5418,-68.9794 311.8467,-62.4007 301.2519,-62.3644 303.5418,-68.9794\"/>\n",
       "</g>\n",
       "</g>\n",
       "</svg>\n"
      ],
      "text/plain": [
       "<graphviz.files.Source at 0x7fc1af0f9780>"
      ]
     },
     "metadata": {},
     "output_type": "display_data"
    }
   ],
   "source": [
    "# Sklearn random forest for comparison\n",
    "sklearn_rf = RandomForestClassifier(n_estimators=2, max_depth=3, max_features=None, min_samples_leaf= 1, bootstrap=True)\n",
    "sklearn_rf.fit(x_train, y_train)\n",
    "draw_tree(sklearn_rf.estimators_[0], x_train, precision=2)\n",
    "draw_tree(sklearn_rf.estimators_[1], x_train, precision=2)"
   ]
  },
  {
   "cell_type": "markdown",
   "metadata": {},
   "source": [
    "#### Prediction for 1 validation sample, and validation set"
   ]
  },
  {
   "cell_type": "code",
   "execution_count": 16,
   "metadata": {},
   "outputs": [
    {
     "data": {
      "text/plain": [
       "array([2])"
      ]
     },
     "execution_count": 16,
     "metadata": {},
     "output_type": "execute_result"
    }
   ],
   "source": [
    "# Make example prediction with this model:\n",
    "cols = ['color', 'diameter']\n",
    "preds = my_rf.predict(x_val_sample[cols].values)\n",
    "preds"
   ]
  },
  {
   "cell_type": "code",
   "execution_count": 17,
   "metadata": {},
   "outputs": [
    {
     "data": {
      "text/plain": [
       "array([2])"
      ]
     },
     "execution_count": 17,
     "metadata": {},
     "output_type": "execute_result"
    }
   ],
   "source": [
    "# Make example prediction with sklearn model:\n",
    "sklearn_rf.predict(x_val_sample)"
   ]
  },
  {
   "cell_type": "code",
   "execution_count": 18,
   "metadata": {},
   "outputs": [
    {
     "name": "stdout",
     "output_type": "stream",
     "text": [
      "[2 1]\n"
     ]
    },
    {
     "data": {
      "text/plain": [
       "-39.0"
      ]
     },
     "execution_count": 18,
     "metadata": {},
     "output_type": "execute_result"
    }
   ],
   "source": [
    "# Make validation set prediction with this model:\n",
    "preds = my_rf.predict(x_val[cols].values)\n",
    "#for i in preds: print(i)\n",
    "#np.array([majority_vote(np.array(preds)[:,i]) for i in range(len(x_val[cols].values))])\n",
    "print(preds)\n",
    "r2_score(preds, y_val)"
   ]
  },
  {
   "cell_type": "code",
   "execution_count": 19,
   "metadata": {},
   "outputs": [
    {
     "name": "stdout",
     "output_type": "stream",
     "text": [
      "[2 1]\n"
     ]
    },
    {
     "data": {
      "text/plain": [
       "-39.0"
      ]
     },
     "execution_count": 19,
     "metadata": {},
     "output_type": "execute_result"
    }
   ],
   "source": [
    "# Make validation set prediction with sklearn model:\n",
    "preds = sklearn_rf.predict(x_val[cols].values)\n",
    "print(preds)\n",
    "r2_score(preds, y_val)"
   ]
  },
  {
   "cell_type": "code",
   "execution_count": null,
   "metadata": {
    "collapsed": true
   },
   "outputs": [],
   "source": []
  }
 ],
 "metadata": {
  "kernelspec": {
   "display_name": "Python 3",
   "language": "python",
   "name": "python3"
  },
  "language_info": {
   "codemirror_mode": {
    "name": "ipython",
    "version": 3
   },
   "file_extension": ".py",
   "mimetype": "text/x-python",
   "name": "python",
   "nbconvert_exporter": "python",
   "pygments_lexer": "ipython3",
   "version": "3.6.3"
  }
 },
 "nbformat": 4,
 "nbformat_minor": 2
}
